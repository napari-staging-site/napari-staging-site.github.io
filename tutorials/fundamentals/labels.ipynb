{
 "cells": [
  {
   "cell_type": "markdown",
   "metadata": {},
   "source": [
    "# labels layer tutorial"
   ]
  },
  {
   "cell_type": "markdown",
   "metadata": {},
   "source": [
    "Welcome to the tutorial on the **napari** `Labels` layer!\n",
    "\n",
    "This tutorial assumes you have already installed **napari**, know how to launch the viewer, and are familiar with its layout.\n",
    "For help with installation see our [installation](./installation) tutorial.\n",
    "For help getting started with the viewer see our [getting started](./getting_started) tutorial.\n",
    "For help understanding the organisation of the viewer,\n",
    "including things like the layers list,\n",
    "the layer properties widgets,\n",
    "the layer control panels,\n",
    "and the dimension sliders see our [napari viewer](./viewer) tutorial.\n",
    "\n",
    "This tutorial will teach you about the **napari** `Labels` layer,\n",
    "including using the layer to display the results of image segmentation analyses,\n",
    "and how to manually segment images using the paintbrush and fill buckets.\n",
    "At the end of the tutorial you should understand how to add a labels image and edit it from the GUI and from the console.\n",
    "\n",
    "The labels layer allows you to take an array of integers and display each integer as a different random color,\n",
    "with the background color 0 rendered as transparent.\n",
    "\n",
    "The `Labels` layer is therefore especially useful for segmentation tasks where each pixel is assigned to a different class,\n",
    "as occurs in semantic segmentation,\n",
    "or where pixels corresponding to different objects all get assigned the same label,\n",
    "as occurs in instance segmentation."
   ]
  },
  {
   "cell_type": "markdown",
   "metadata": {},
   "source": [
    "## a simple example\n",
    "\n",
    "You can create a new viewer and add an labels image in one go using the `napari.view_labels` method,\n",
    "or if you already have an existing viewer,\n",
    "you can add a `Labels` image to it using `viewer.add_labels`.\n",
    "The api of both methods is the same.\n",
    "In these examples we'll mainly use `add_labels` to overlay a `Labels` image onto on image.\n",
    "\n",
    "In this example of instance segmentation, we will find and segment each of the coins in an image,\n",
    "assigning each one an integer label,\n",
    "and then overlay the results on the original image as follows:"
   ]
  },
  {
   "cell_type": "code",
   "execution_count": null,
   "metadata": {},
   "outputs": [],
   "source": [
    "%gui qt  # we need to start the Qt event loop before importing napari"
   ]
  },
  {
   "cell_type": "code",
   "execution_count": null,
   "metadata": {
    "tags": [
     "remove-cell"
    ]
   },
   "outputs": [],
   "source": [
    "# This cell is required for the automated continuous integration\n",
    "# It allows the async Qt magic in the previous cell time to load\n",
    "import time\n",
    "\n",
    "time.sleep(1)"
   ]
  },
  {
   "cell_type": "code",
   "execution_count": null,
   "metadata": {},
   "outputs": [],
   "source": [
    "import napari\n",
    "from skimage import data\n",
    "from skimage.filters import threshold_otsu\n",
    "from skimage.segmentation import clear_border\n",
    "from skimage.measure import label\n",
    "from skimage.morphology import closing, square, remove_small_objects\n",
    "\n",
    "coins = data.coins()[50:-50, 50:-50]\n",
    "# apply threshold\n",
    "thresh = threshold_otsu(coins)\n",
    "bw = closing(coins > thresh, square(4))\n",
    "# remove artifacts connected to image border\n",
    "cleared = remove_small_objects(clear_border(bw), 20)\n",
    "# label image regions\n",
    "label_image = label(cleared)\n",
    "\n",
    "# create the viewer and add the coins image\n",
    "viewer = napari.view_image(coins, name='coins')\n",
    "# add the labels\n",
    "viewer.add_labels(label_image, name='segmentation')"
   ]
  },
  {
   "cell_type": "code",
   "execution_count": null,
   "metadata": {
    "tags": [
     "hide-input"
    ]
   },
   "outputs": [],
   "source": [
    "from napari.utils import nbscreenshot\n",
    "\n",
    "nbscreenshot(viewer)"
   ]
  },
  {
   "cell_type": "code",
   "execution_count": null,
   "metadata": {
    "tags": [
     "remove-cell"
    ]
   },
   "outputs": [],
   "source": [
    "viewer.close()"
   ]
  },
  {
   "cell_type": "markdown",
   "metadata": {},
   "source": [
    "## arguments of view_labels and add_labels\n",
    "\n",
    "Both `view_labels` and `add_labels` have the following doc strings:"
   ]
  },
  {
   "cell_type": "code",
   "execution_count": null,
   "metadata": {
    "tags": [
     "hide-input"
    ]
   },
   "outputs": [],
   "source": [
    "napari.view_labels?"
   ]
  },
  {
   "cell_type": "markdown",
   "metadata": {},
   "source": [
    "## labels data\n",
    "\n",
    "The labels layer is a subclass of the `Image` layer and as such can support the same numpy-like arrays,\n",
    "including [dask arrays](https://docs.dask.org/en/stable/array.html),\n",
    "[xarrays](http://xarray.pydata.org/en/stable/generated/xarray.DataArray.html),\n",
    "and [zarr arrays](https://zarr.readthedocs.io/en/stable/api/core.html).\n",
    "A `Labels` layer though must be integer valued, and the background label must be 0.\n",
    "\n",
    "Because the labels layer subclasses the image layer it inherits the great properties of the image layer,\n",
    "like supporting lazy loading and image pyramids for big data layers.\n",
    "For more information about both these concepts see the details in the [image layer](./image) tutorial."
   ]
  },
  {
   "cell_type": "markdown",
   "metadata": {},
   "source": [
    "## creating a new labels layer\n",
    "\n",
    "As you can edit a `Labels` layer using the paintbrush and fill bucket,\n",
    "it is possible to create a brand-new empty labels layers by clicking the new labels layer button above the layers list.\n",
    "The shape of the new labels layer will match the size of any currently existing image layers,\n",
    "allowing you to paint on top of them."
   ]
  },
  {
   "cell_type": "markdown",
   "metadata": {},
   "source": [
    "## non-editable mode\n",
    "\n",
    "If you want to disable editing of the labels layer you can set the `editable` property of the layer to `False`.\n",
    "\n",
    "As note in the section on 3D rendering, when using 3D rendering the labels layer is not editable.\n",
    "Similarly, for now, a labels layer where the data is represented as an image pyramid is not editable."
   ]
  },
  {
   "cell_type": "markdown",
   "metadata": {},
   "source": [
    "## 3D rendering of labels\n",
    "\n",
    "All our layers can be rendered in both 2D and 3D mode,\n",
    "and one of our viewer buttons can toggle between each mode.\n",
    "The number of dimensions sliders will be 2 or 3 less than the total number of dimensions of the layer,\n",
    "allowing you to browse volumetric timeseries data and other high dimensional data."
   ]
  },
  {
   "cell_type": "markdown",
   "metadata": {},
   "source": [
    "See for example the labeled blobs in 3D in the [`examples/nD_labels.py`](https://github.com/napari/napari/blob/master/examples/nD_labels.py):\n",
    "![image: nD labels](../assets/tutorials/nD_labels.png)"
   ]
  },
  {
   "cell_type": "markdown",
   "metadata": {},
   "source": [
    "Note though that when entering 3D rendering mode the colorpicker, paintbrush, and fill bucket options which allow for layer editing are all disabled.\n",
    "Those options are only supported when viewing a layer using 2D rendering."
   ]
  },
  {
   "cell_type": "markdown",
   "metadata": {},
   "source": [
    "## pan and zoom mode\n",
    "\n",
    "The default mode of the labels layer is to support panning and zooming, as in the image layer.\n",
    "This mode is represented by the magnifying glass in the layers control panel,\n",
    "and while it is selected editing the layer is not possible.\n",
    "Continue reading to learn how to use some of the editing modes.\n",
    "You can always return to pan and zoom mode by pressing the `Z` key when the labels layer is selected."
   ]
  },
  {
   "cell_type": "markdown",
   "metadata": {},
   "source": [
    "## shuffling label colors\n",
    "\n",
    "The color that each integer gets assigned is random, aside from 0 which always gets assigned to be transparent.\n",
    "The colormap we use is designed such that nearby integers get assigned distinct colors.\n",
    "The exact colors that get assigned as determined by a [random seed](https://docs.scipy.org/doc/numpy-1.15.1/reference/generated/numpy.random.seed.html)\n",
    "and changing that seed will shuffle the colors that each label gets assigned.\n",
    "Changing the seed can be done by clicking on the `shuffle colors` button in the layers control panel.\n",
    "Shuffling colors can be useful as some colors may be hard to distinguish from the background or nearby objects."
   ]
  },
  {
   "cell_type": "markdown",
   "metadata": {},
   "source": [
    "## selecting a label\n",
    "\n",
    "A particular label can be selected either using the label combobox inside the layers control panel\n",
    "and typing in the value of the desired label or using the plus / minus buttons,\n",
    "or by selecting the color picker tool and then clicking on a pixel with the desired label in the image.\n",
    "When a label is selected you will see its integer inside the label combobox\n",
    "and the color or the label shown in the thumbnail next to the label combobox.\n",
    "If the 0 label is selected, then a checkerboard pattern is shown in the thumbnail to represent the transparent color.\n",
    "\n",
    "You can quickly select the color picker by pressing the `L` key when the labels layer is selected.\n",
    "\n",
    "You can set the selected label to be 0, the background label, by pressing `E`.\n",
    "\n",
    "You can set the selected label to be one larger than the current largest label by pressing `M`.\n",
    "This selection will guarantee that you are then using a label that hasn't been used before.\n",
    "\n",
    "You can also increment or decrement the currently selected label by pressing the `I` or `D` key, respectively."
   ]
  },
  {
   "cell_type": "markdown",
   "metadata": {},
   "source": [
    "## painting in the labels layer\n",
    "\n",
    "One of the major use cases for the labels layer is to manually edit or create image segmentations.\n",
    "One of the tools that can be used for manual editing is the `paintbrush`,\n",
    "that can be made active from by clicking the paintbrush icon in the layers control panel.\n",
    "Once the paintbrush is enabled, the pan and zoom functionality of the  viewer canvas gets disabled,\n",
    "and you can paint onto the canvas.\n",
    "You can temporarily re-enable pan and zoom by pressing and holding the spacebar.\n",
    "This feature can be useful if you want to move around the labels layer as you paint.\n",
    "\n",
    "When you start painting the label that you are painting with,\n",
    "and the color that you will see are determined by the selected label.\n",
    "Note there is no explicit eraser tool,\n",
    "instead you just need to make the selected label 0 and then you are effectively painting with the background color.\n",
    "Remember you can use the color picker tool at any point to change the selected label.\n",
    "\n",
    "You can adjust the size of your paintbrush using the brush size slider,\n",
    "making it as small as a single pixel for incredibly detailed painting.\n",
    "\n",
    "If you have a multidimensional labels layer\n",
    "then your paintbrush will only edit data in the visible slice by default;\n",
    "however, if you enable the `n_dimensional` property and paintbrush\n",
    "then your paintbrush will extend out into neighbouring slices according to its size.\n",
    "\n",
    "You can quickly select the paintbrush by pressing the `P` key when the labels layer is selected."
   ]
  },
  {
   "cell_type": "markdown",
   "metadata": {},
   "source": [
    "## using the fill bucket\n",
    "\n",
    "Sometimes you might want to replace an entire label with a different label.\n",
    "This could be because you want to make two touching regions have the same label,\n",
    "or you want to just replace one label with a different one,\n",
    "or maybe you have painted around the edge of a region and you want to quickly fill in its inside.\n",
    "To do this you can select the `fill bucket` by clicking on the droplet icon in the layer controls panel\n",
    "and then click on a target region of interest in the layer.\n",
    "The fill bucket will fill using the currently selected label.\n",
    "\n",
    "By default, the fill bucket will only change contiguous or connected pixels of the same label as the pixel that is clicked on.\n",
    "If you want to change all the pixels of that label regardless of where they are in the slice,\n",
    "then you can set the `contiguous` property or checkbox to `False`.\n",
    "\n",
    "If you have a multidimensional labels layer then your fill bucket will only edit data in the visible slice by default;\n",
    "however, if you enable the `n_dimensional` property and paintbrush\n",
    "then your fill bucket will extend out into neighbouring slices,\n",
    "either to all pixels with that label in the layer,\n",
    "or only connected pixels depending on if the contiguous property is disabled or not.\n",
    "\n",
    "You can quickly select the fill bucket by pressing the `F` key when the labels layer is selected."
   ]
  },
  {
   "cell_type": "markdown",
   "metadata": {},
   "source": [
    "## creating, deleting, merging, and splitting connected components\n",
    "\n",
    "Using the `color picker`, `paintbrush`, and `fill bucket` tools one can create and edit object segmentation maps.\n",
    "Below we show how to use these tools to by perform common editing tasks on connected components (keep the `contiguous` box checked)."
   ]
  },
  {
   "cell_type": "markdown",
   "metadata": {},
   "source": [
    "**drawing a connected component**:\n",
    "\n",
    "![image: draw component](../assets/tutorials/draw_component.gif)\n"
   ]
  },
  {
   "cell_type": "markdown",
   "metadata": {},
   "source": [
    "Press `M` to select a new label color.\n",
    "Select the `paintbrush` tool and draw a closed contour around the object.\n",
    "Select the `fill bucket` tool and click inside the contour to assign the label to all pixels of the object."
   ]
  },
  {
   "cell_type": "markdown",
   "metadata": {},
   "source": [
    "**selecting a connected component**:\n",
    "\n",
    "![image: delete label](../assets/tutorials/delete_label.gif)"
   ]
  },
  {
   "cell_type": "markdown",
   "metadata": {},
   "source": [
    "select the background label with the `color picker` (alternative: press keyboard shortcut `E`),\n",
    "then use the `fill bucket` to set all pixels of the connected component to background."
   ]
  },
  {
   "cell_type": "markdown",
   "metadata": {},
   "source": [
    "**merging connected components**:\n",
    "\n",
    "![image: merge labels](../assets/tutorials/merge_labels.gif)"
   ]
  },
  {
   "cell_type": "markdown",
   "metadata": {},
   "source": [
    "select the label of one of the components with the `color picker` tool and then filling the components to be merged with the fill bucket."
   ]
  },
  {
   "cell_type": "markdown",
   "metadata": {},
   "source": [
    "**splitting a connected component**:\n",
    "\n",
    "![image: split label](../assets/tutorials/split_label.gif)"
   ]
  },
  {
   "cell_type": "markdown",
   "metadata": {},
   "source": [
    "splitting a connected component will introduce an additional object,\n",
    "therefore press `M` to select a label number that is not already in use.\n",
    "Use the paintbrush tool to draw a dividing line,\n",
    "then assign the new label to one of the parts with the `fill bucket`."
   ]
  },
  {
   "cell_type": "markdown",
   "metadata": {},
   "source": [
    "## undo / redo functionality\n",
    "\n",
    "When painting or using the fill bucket it can be easy to make a mistake that you might want to undo or then redo.\n",
    "For the labels layer we support an undo with `ctrl-Z` and redo with `shift-ctrl-Z`.\n",
    "We plan to support this sort of functionality more generally,\n",
    "but for now these actions will undo the most recent painting or filling event, up to 100 events in the past.\n",
    "\n",
    "If you have multidimensional data, then adjusting the currently viewed slice will cause the undo history to be reset."
   ]
  },
  {
   "cell_type": "markdown",
   "metadata": {},
   "source": [
    "## layer visibility\n",
    "\n",
    "All our layers support a visibility toggle that allows you to set the `visible` property of each layer.\n",
    "This property is located inside the layer widget in the layers list and is represented by an eye icon.\n"
   ]
  },
  {
   "cell_type": "markdown",
   "metadata": {},
   "source": [
    "## layer opacity\n",
    "\n",
    "All our layers support an opacity slider and `opacity` property\n",
    "that allow you to adjust the layer opacity between 0, fully invisible, and 1, fully visible.\n"
   ]
  },
  {
   "cell_type": "markdown",
   "metadata": {},
   "source": [
    "## blending layers\n",
    "\n",
    "All our layers support three blending modes `translucent`, `additive`, and `opaque`\n",
    "that determine how the visuals for this layer get mixed with the visuals from the other layers.\n",
    "\n",
    "An `opaque` layer renders all the other layers below it invisible\n",
    "and will fade to black as you decrease its opacity.\n",
    "\n",
    "The `translucent` setting will cause the layer to blend with the layers below it if you decrease its opacity\n",
    "but will fully block those layers if its opacity is 1.\n",
    "This is a reasonable default, useful for many applications.\n",
    "\n",
    "The final blending mode `additive` will cause the layer to blend with the layers below even when it has full opacity.\n",
    "This mode is especially useful for visualizing multiple layers at the same time."
   ]
  },
  {
   "cell_type": "markdown",
   "metadata": {},
   "source": [
    "## naming layers\n",
    "\n",
    "All our layers support a `name` property that can be set inside a text box inside the layer widget in the layers list.\n",
    "The name of each layer is forced into being unique\n",
    "so that you can use the name to index into `viewer.layers` to retrieve the layer object."
   ]
  },
  {
   "cell_type": "markdown",
   "metadata": {},
   "source": [
    "## scaling layers\n",
    "\n",
    "All our layers support a `scale` property and keyword argument\n",
    "that will rescale the layer multiplicatively according to the scale values (one for each dimension).\n",
    "This property can be particularly useful for viewing anisotropic volumes\n",
    "where the size of the voxel in the z dimension might be different then the size in the x and y dimensions.\n"
   ]
  },
  {
   "cell_type": "markdown",
   "metadata": {},
   "source": [
    "## translating layers\n",
    "\n",
    "All our layers support a `translate` property and keyword argument\n",
    "that you can use to offset a layer relative to the other layers,\n",
    "which could be useful if you are trying to overlay two layers for image registration purposes."
   ]
  },
  {
   "cell_type": "markdown",
   "metadata": {},
   "source": [
    "## layer metadata\n",
    "\n",
    "All our layers also support a `metadata` property and keyword argument\n",
    "that you can use to store an arbitrary metadata dictionary on the layer.\n"
   ]
  },
  {
   "cell_type": "markdown",
   "metadata": {},
   "source": [
    "## next steps\n",
    "\n",
    "Hopefully, this tutorial has given you a detailed understanding of the `Labels` layer,\n",
    "including how to create one and control its properties.\n",
    "To learn more about some of the other layer types that **napari** supports\n",
    "checkout some more of our tutorials listed below.\n",
    "The [points layer](./points) tutorial is a great one to try next\n",
    "as points are one of our simplest shape-like layers."
   ]
  }
 ],
 "metadata": {
  "celltoolbar": "Tags",
  "kernelspec": {
   "display_name": "Python 3",
   "language": "python",
   "name": "python3"
  },
  "language_info": {
   "codemirror_mode": {
    "name": "ipython",
    "version": 3
   },
   "file_extension": ".py",
   "mimetype": "text/x-python",
   "name": "python",
   "nbconvert_exporter": "python",
   "pygments_lexer": "ipython3",
   "version": "3.7.9"
  }
 },
 "nbformat": 4,
 "nbformat_minor": 2
}
