{
 "cells": [
  {
   "cell_type": "markdown",
   "metadata": {},
   "source": [
    "# points layer tutorial"
   ]
  },
  {
   "cell_type": "markdown",
   "metadata": {},
   "source": [
    "Welcome to the tutorial on the **napari** `Points` layer!\n",
    "\n",
    "This tutorial assumes you have already installed **napari**,\n",
    "know how to launch the viewer,\n",
    "and are familiar with its layout.\n",
    "For help with installation see our [installation](./installation) tutorial.\n",
    "For help getting started with the viewer see our [getting started](./getting_started) tutorial.\n",
    "For help understanding the organisation of the viewer,\n",
    "including things like the layers list,\n",
    "the layer properties widgets,\n",
    "the layer control panels,\n",
    "and the dimension sliders\n",
    "see our [napari viewer](./viewer) tutorial.\n",
    "\n",
    "This tutorial will teach you about the **napari** `Points` layer,\n",
    "including displays spots over an image that have been found in an automated fashion,\n",
    "or manually annotating an image with points.\n",
    "At the end of the tutorial you should understand how to add a points layer\n",
    "and edit it from the GUI and from the console.\n",
    "\n",
    "The points layer allows you to display an NxD array of N points in D coordinates.\n",
    "You can adjust the size, face color, and edge color of all the points independently.\n",
    "You can also adjust the opactiy, edge width, and symbol representing all the points simultaneously.\n",
    "\n",
    "Each data point can have annotations associated with it using the `Points.properties` dictionary.\n",
    "These properties can be used to set the face and edge colors of the points.\n",
    "For example, when displaying points of different classes/types,\n",
    "one could automatically set color the individual points by their respective class/type.\n",
    "For more details on point properties,\n",
    "see the \"setting point edge and face color with properties\" below\n",
    "or the [point annotation tutorial](../applications/annotate_points)."
   ]
  },
  {
   "cell_type": "markdown",
   "metadata": {},
   "source": [
    "## a simple example\n",
    "\n",
    "You can create a new viewer and add a set of points in one go using the `napari.view_points` method,\n",
    "or if you already have an existing viewer,\n",
    "you can add points to it using `viewer.add_points`.\n",
    "The api of both methods is the same.\n",
    "In these examples we'll mainly use `add_points` to overlay points onto on an existing image.\n",
    "\n",
    "In this example of we will overlay some points on the image of an astronaut:"
   ]
  },
  {
   "cell_type": "code",
   "execution_count": null,
   "metadata": {},
   "outputs": [],
   "source": [
    "%gui qt  # we need to start the Qt event loop before importing napari"
   ]
  },
  {
   "cell_type": "code",
   "execution_count": null,
   "metadata": {
    "tags": [
     "remove-cell"
    ]
   },
   "outputs": [],
   "source": [
    "# This cell is required for the automated continuous integration\n",
    "# It allows the async Qt magic in the previous cell time to load\n",
    "import time\n",
    "\n",
    "time.sleep(1)"
   ]
  },
  {
   "cell_type": "code",
   "execution_count": null,
   "metadata": {},
   "outputs": [],
   "source": [
    "import napari\n",
    "import numpy as np\n",
    "from skimage import data\n",
    "\n",
    "viewer = napari.view_image(data.astronaut(), rgb=True)\n",
    "points = np.array([[100, 100], [200, 200], [300, 100]])\n",
    "\n",
    "viewer.add_points(points, size=30)"
   ]
  },
  {
   "cell_type": "code",
   "execution_count": null,
   "metadata": {
    "tags": [
     "hide-input"
    ]
   },
   "outputs": [],
   "source": [
    "from napari.utils import nbscreenshot\n",
    "\n",
    "nbscreenshot(viewer)"
   ]
  },
  {
   "cell_type": "code",
   "execution_count": null,
   "metadata": {
    "tags": [
     "remove-cell"
    ]
   },
   "outputs": [],
   "source": [
    "viewer.close()"
   ]
  },
  {
   "cell_type": "markdown",
   "metadata": {},
   "source": [
    "## arguments of view_points and add_points\n",
    "\n",
    "Both `view_points` and `add_points` have the following doc strings:"
   ]
  },
  {
   "cell_type": "code",
   "execution_count": null,
   "metadata": {
    "tags": [
     "hide-input"
    ]
   },
   "outputs": [],
   "source": [
    "napari.view_points?"
   ]
  },
  {
   "cell_type": "markdown",
   "metadata": {},
   "source": [
    "## points data\n",
    "\n",
    "The input data to the points layer must be an NxD numpy array\n",
    "containing the coordinates of N points in D dimensions.\n",
    "The ordering of these dimensions is the same as the ordering of the dimensions for image layers.\n",
    "This array is always accessible through the `layer.data` property\n",
    "and will grow or shrink as new points are either added or deleted."
   ]
  },
  {
   "cell_type": "markdown",
   "metadata": {},
   "source": [
    "## using the points properties dictionary\n",
    "\n",
    "The `Points` layer can contain properties that annotate each point.\n",
    "`Points.properties` stores the properties in a dictionary\n",
    "where each key is the name of the property\n",
    "and the values are numpy arrays with a value for each point (i.e., length N for N points in `Points.data`).\n",
    "As we will see below, we can use the values in a property to set the display properties of the points (e.g., face color or edge color).\n",
    "To see the points properties in action,\n",
    "please see the [point annotation tutorial](../applications/annotate_points)."
   ]
  },
  {
   "cell_type": "markdown",
   "metadata": {},
   "source": [
    "## creating a new points layer\n",
    "\n",
    "As you can add new points to a points layer using the add points tool,\n",
    "it is possible to create a brand new empty points layers\n",
    "by clicking the new points layer button above the layers list.\n",
    "The shape of the points layer is defined by the points inside it,\n",
    "and so as you add new points the shape will adjust as needed.\n",
    "The dimension of the new points layer will default to the largest dimension of any layer currently in the viewer,\n",
    "or to 2 if no other layers are present in the viewer."
   ]
  },
  {
   "cell_type": "markdown",
   "metadata": {},
   "source": [
    "## non-editable mode\n",
    "\n",
    "If you want to disable editing of the points layer\n",
    "you can set the `editable` property of the layer to `False`.\n",
    "\n",
    "As note in the section on 3D rendering, when using 3D rendering the points layer is not editable."
   ]
  },
  {
   "cell_type": "markdown",
   "metadata": {},
   "source": [
    "## 3D rendering of points\n",
    "\n",
    "All our layers can be rendered in both 2D and 3D mode,\n",
    "and one of our viewer buttons can toggle between each mode.\n",
    "The number of dimensions sliders will be 2 or 3 less than the total number of dimensions of the layer.\n",
    "See for example these points overlaid on an image in both 2D and 3D:"
   ]
  },
  {
   "cell_type": "markdown",
   "metadata": {},
   "source": [
    "![image: smFISH with points overlaid](../assets/tutorials/smFISH.gif)"
   ]
  },
  {
   "cell_type": "markdown",
   "metadata": {},
   "source": [
    "Note though that when entering 3D rendering mode\n",
    "the point add, delete, and select tools are all disabled.\n",
    "Those options are only supported when viewing a layer using 2D rendering."
   ]
  },
  {
   "cell_type": "markdown",
   "metadata": {},
   "source": [
    "## pan and zoom mode\n",
    "\n",
    "The default mode of the points layer is to support panning and zooming, as in the image layer.\n",
    "This mode is represented by the magnifying glass in the layers control panel,\n",
    "and while it is selected editing the layer is not possible.\n",
    "Continue reading to learn how to use some of the editing modes.\n",
    "You can always return to pan and zoom mode by pressing the `Z` key when the points layer is selected."
   ]
  },
  {
   "cell_type": "markdown",
   "metadata": {},
   "source": [
    "## adding, deleting, and selecting points\n",
    "\n",
    "New points can be added using the point adding tool.\n",
    "This tool can be selected from layer controls panel.\n",
    "Points can then be added by clicking in the canvas.\n",
    "If you have a multidimensional points layer\n",
    "then the coordinates of the new point will keep track of the currently viewed slice that you added the point too.\n",
    "You can quickly select the add points tool by pressing the `P` key when the points layer is selected.\n",
    "The point adding tool also supports panning and zooming.\n",
    "\n",
    "You can select a point by selecting the select points tool and then clicking on that point.\n",
    "You can select multiple points by continuing to shift click on additional points,\n",
    "or by dragging a bounding box around the points you want to select.\n",
    "You can quickly select the select points tool by pressing the `S` key when the points layer is selected.\n",
    "\n",
    "You can select all the points in the currently viewed slice by clicking the `A` key if you are in select mode.\n",
    "\n",
    "Once selected you can delete the selected points by clicking on the delete button in the layer controls panel or pressing the delete key.\n",
    "\n",
    "When using the point selection tool\n",
    "the pan and zoom functionality of the viewer canvas is disabled and you are able to select points the layer.\n",
    "You can temporarily re-enable pan and zoom by pressing and holding the spacebar.\n",
    "This feature can be useful if you want to move around the points layer as you create your selection."
   ]
  },
  {
   "cell_type": "markdown",
   "metadata": {},
   "source": [
    "## changing points size\n",
    "\n",
    "Each point can have a different size.\n",
    "You can pass a list or 1-dimensional array of points through the size keyword argument\n",
    "to initialize the layer with points of different sizes.\n",
    "These sizes are then accessible through the `sizes` property.\n",
    "If you pass a single size then all points will get initialized with that size.\n",
    "Points can be pseduo-visualized as n-dimensionsal if the `n-dimensional` property is set to `True`\n",
    "or the `n-dimensional` checkbox is checked.\n",
    "In this setting when viewing different slices of the layer\n",
    "points will appear in the neighbouring slices to the ones in which they are located\n",
    "with a size scaled by the distance from their center to that slice.\n",
    "This feature can be especially useful when visualizing 2D slices of points that are located in a 3D volume.\n",
    "\n",
    "Points can also be resized within the GUI by first selecting them and then adjusting the point size slider.\n",
    "If no points are selected, then adjusting the slider value will only serve to initialize the size for new points that are about to be added.\n",
    "The value of the size of the next point to be added can be found in the `layer.size` property.\n",
    "Note this property is different from `layer.sizes` which contains the current sizes of all the points."
   ]
  },
  {
   "cell_type": "markdown",
   "metadata": {},
   "source": [
    "## changing points edge and face color\n",
    "\n",
    "Individual points can each have different edge and face colors.\n",
    "You can initially set these colors by providing a list of colors to the `edge_color` or `face_color` keyword arguments respectively,\n",
    "or you can edit them from the GUI.\n",
    "The colors of each of the points are available as lists under the `layer.edge_colors` and `layer.face_colors` properties.\n",
    "Similar to the `sizes` and `size` properties\n",
    "these properties are different from the `layer.edge_color` and `layer.face_color` properties\n",
    "that will determine the color of the next point to be added or any currently selected points.\n",
    "\n",
    "To change the point color properties from the GUI\n",
    "you must first select the points whose properties you want to change,\n",
    "otherwise you will just be initializing the property for the next point you add."
   ]
  },
  {
   "cell_type": "markdown",
   "metadata": {},
   "source": [
    "## setting point edge and face color with properties\n",
    "\n",
    "Point edge and face colors can be set as a function of a property in `Points.properties`.\n",
    "There are two ways that the values in properties can be mapped to colors: (1) color cycles and (2) colormaps.\n",
    "\n",
    "Color cycles are sets of colors that are mapped to categorical properties.\n",
    "The colors are repeated if the number of unique property values is greater than the number of colors in the color cycle.\n",
    "\n",
    "Colormaps are a continuum of colors that are mapped to a continuous property value.\n",
    "The available colormaps are listed below (colormaps are from [vispy](http://vispy.org/color.html#vispy.color.Colormap)).\n",
    "For some guidance on choosing colormaps, see the [matplotlib colormap docs](https://matplotlib.org/3.2.0/tutorials/colors/colormaps.html).\n",
    "\n",
    "* autumn\n",
    "* blues\n",
    "* cool\n",
    "* greens\n",
    "* reds\n",
    "* spring\n",
    "* summer\n",
    "* fire\n",
    "* grays\n",
    "* hot\n",
    "* ice\n",
    "* winter\n",
    "* light_blues\n",
    "* orange\n",
    "* viridis\n",
    "* coolwarm\n",
    "* PuGr\n",
    "* GrBu\n",
    "* GrBu_d\n",
    "* RdBu"
   ]
  },
  {
   "cell_type": "markdown",
   "metadata": {},
   "source": [
    "### setting edge or face color with a color cycle\n",
    "\n",
    "Here we will set the edge color of the markers with a color cycle on a property.\n",
    "To do the same for a face color, substitute `face_color` for `edge_color` in the example snippet below."
   ]
  },
  {
   "cell_type": "code",
   "execution_count": null,
   "metadata": {},
   "outputs": [],
   "source": [
    "import napari\n",
    "import numpy as np\n",
    "from skimage import data\n",
    "\n",
    "viewer = napari.view_image(data.astronaut(), rgb=True)\n",
    "points = np.array([[100, 100], [200, 200], [300, 100]])\n",
    "point_properties = {\n",
    "    'good_point': np.array([True, True, False]),\n",
    "    'confidence': np.array([0.99, 0.8, 0.2]),\n",
    "}\n",
    "\n",
    "points_layer = viewer.add_points(\n",
    "    points,\n",
    "    properties=point_properties,\n",
    "    edge_color='good_point',\n",
    "    edge_color_cycle=['magenta', 'green'],\n",
    "    edge_width=5,\n",
    ")"
   ]
  },
  {
   "cell_type": "code",
   "execution_count": null,
   "metadata": {
    "tags": [
     "hide-input"
    ]
   },
   "outputs": [],
   "source": [
    "from napari.utils import nbscreenshot\n",
    "\n",
    "nbscreenshot(viewer)"
   ]
  },
  {
   "cell_type": "code",
   "execution_count": null,
   "metadata": {
    "tags": [
     "remove-cell"
    ]
   },
   "outputs": [],
   "source": [
    "viewer.close()"
   ]
  },
  {
   "cell_type": "markdown",
   "metadata": {},
   "source": [
    "In the example above, the properties (`point_properties`) were provided as a dictionary with two properties: `good_point` and `confidence`.\n",
    "The values of each property are stored in a numpy ndarray with length 3\n",
    "since there were three coordinates provided in `points`.\n",
    "We set the edge color as a function of the `good_point` property\n",
    "by providing the keyword argument `edge_color='good_point'` to the `viewer.add_points()` method.\n",
    "We set the color cycle via the `edge_color_cycle` keyword argument (`edge_color_cycle=['magenta', 'green']`).\n",
    "The color cycle can be provided as a list of colors (a list of strings or a (M x 4) array of M RGBA colors)."
   ]
  },
  {
   "cell_type": "markdown",
   "metadata": {},
   "source": [
    "### setting edge or face color with a colormap\n",
    "\n",
    "Here we will set the face color of the markers with a color cycle on a property.\n",
    "To do the same for a face color, substitute `edge_color` for `face_color` in the example snippet below."
   ]
  },
  {
   "cell_type": "code",
   "execution_count": null,
   "metadata": {},
   "outputs": [],
   "source": [
    "import napari\n",
    "import numpy as np\n",
    "from skimage import data\n",
    "\n",
    "viewer = napari.view_image(data.astronaut(), rgb=True)\n",
    "points = np.array([[100, 100], [200, 200], [300, 100]])\n",
    "point_properties = {\n",
    "    'good_point': np.array([True, True, False]),\n",
    "    'confidence': np.array([0.99, 0.8, 0.2]),\n",
    "}\n",
    "\n",
    "points_layer = viewer.add_points(\n",
    "    points,\n",
    "    properties=point_properties,\n",
    "    face_color='confidence',\n",
    "    face_colormap='viridis',\n",
    ")"
   ]
  },
  {
   "cell_type": "code",
   "execution_count": null,
   "metadata": {
    "tags": [
     "hide-input"
    ]
   },
   "outputs": [],
   "source": [
    "from napari.utils import nbscreenshot\n",
    "\n",
    "nbscreenshot(viewer)"
   ]
  },
  {
   "cell_type": "code",
   "execution_count": null,
   "metadata": {
    "tags": [
     "remove-cell"
    ]
   },
   "outputs": [],
   "source": [
    "viewer.close()"
   ]
  },
  {
   "cell_type": "markdown",
   "metadata": {},
   "source": [
    "In the example above, the properties (`point_properties`) were provided as a dictionary with two properties: `good_point` and `confidence`.\n",
    "The values of each property are stored in a numpy ndarray with length 3\n",
    "since there were three coordinates provided in `points`.\n",
    "We set the face color as a function of the `confidence` property\n",
    "by providing the keyword argument `face_color='confidence'` to the `viewer.add_points()` method.\n",
    "We set the colormap to viridis using the `face_colormap` keyword argument (`face_colormap='viridis'`)."
   ]
  },
  {
   "cell_type": "markdown",
   "metadata": {},
   "source": [
    "## changing the points symbol\n",
    "\n",
    "The symbol for the points layer is a global property for the layer.\n",
    "All points must have the same symbol.\n",
    "You can set the symbol on the loading of the layer using the `symbol` keyword argument,\n",
    "or you can change it from the the GUI using the symbol dropdown menu.\n",
    "Since the symbol property applies to all the points\n",
    "you don't need to have any points selected for it to have an effect."
   ]
  },
  {
   "cell_type": "markdown",
   "metadata": {},
   "source": [
    "## copying and pasting points\n",
    "\n",
    "It is possible to copy and paste any selected points using the `ctrl-C` and `ctrl-V` keybindings, respectively.\n",
    "If you have a multidimensional `Points` layer you can copy points from one slice to another by pasting them into the new slice.\n",
    "The coordinates of the points in the visible dimensions will be in the same place on the new slice as in the old slice,\n",
    "but the rest of the coordinates will be updated with the new slice values."
   ]
  },
  {
   "cell_type": "markdown",
   "metadata": {},
   "source": [
    "## layer visibility\n",
    "\n",
    "All our layers support a visibility toggle that allows you to set the `visible` property of each layer.\n",
    "This property is located inside the layer widget in the layers list and is represented by an eye icon."
   ]
  },
  {
   "cell_type": "markdown",
   "metadata": {},
   "source": [
    "## layer opacity\n",
    "\n",
    "All our layers support an opacity slider and `opacity` property\n",
    "that allow you to adjust the layer opacity between 0, fully invisible, and 1, fully visible.\n",
    "The opacity value applies globally to all the points in the layer,\n",
    "and so you don't need to have any points selected for it to have an effect."
   ]
  },
  {
   "cell_type": "markdown",
   "metadata": {},
   "source": [
    "## blending layers\n",
    "\n",
    "All our layers support three blending modes `translucent`, `additive`, and `opaque`\n",
    "that determine how the visuals for this layer get mixed with the visuals from the other layers.\n",
    "\n",
    "An `opaque` layer renders all the other layers below it invisible\n",
    "and will fade to black as you decrease its opacity.\n",
    "\n",
    "The `translucent` setting will cause the layer to blend with the layers below it if you decrease its opacity\n",
    "but will fully block those layers if its opacity is 1.\n",
    "This is a reasonable default, useful for many applications.\n",
    "\n",
    "The final blending mode `additive` will cause the layer to blend with the layers below even when it has full opacity.\n",
    "This mode is especially useful for visualizing multiple layers at the same time."
   ]
  },
  {
   "cell_type": "markdown",
   "metadata": {},
   "source": [
    "## naming layers\n",
    "\n",
    "All our layers support a `name` property that can be set inside a text box inside the layer widget in the layers list.\n",
    "The name of each layer is forced into being unique\n",
    "so that you can use the name to index into `viewer.layers` to retrieve the layer object."
   ]
  },
  {
   "cell_type": "markdown",
   "metadata": {},
   "source": [
    "## scaling layers\n",
    "\n",
    "All our layers support a `scale` property and keyword argument\n",
    "that will rescale the layer multiplicatively according to the scale values (one for each dimension).\n",
    "This property can be particularly useful for viewing anisotropic data\n",
    "where the size of the voxel in the z dimension might be different then the size in the x and y dimensions."
   ]
  },
  {
   "cell_type": "markdown",
   "metadata": {},
   "source": [
    "## translating layers\n",
    "\n",
    "All our layers support a `translate` property and keyword argument\n",
    "that you can use to offset a layer relative to the other layers,\n",
    "which could be useful if you are trying to overlay two layers for image registration purposes."
   ]
  },
  {
   "cell_type": "markdown",
   "metadata": {},
   "source": [
    "## layer metadata\n",
    "\n",
    "All our layers also support a `metadata` property and keyword argument\n",
    "that you can use to store an arbitrary metadata dictionary on the layer."
   ]
  },
  {
   "cell_type": "markdown",
   "metadata": {},
   "source": [
    "## putting it all together\n",
    "\n",
    "Here you can see an example of adding, selecting, deleting points and change their properties:"
   ]
  },
  {
   "cell_type": "markdown",
   "metadata": {},
   "source": [
    "![image: editing points](../assets/tutorials/editing_points.gif)"
   ]
  },
  {
   "cell_type": "markdown",
   "metadata": {},
   "source": [
    "## next steps\n",
    "\n",
    "Hopefully, this tutorial has given you a detailed understanding of the `Points` layer,\n",
    "including how to create one and control its properties.\n",
    "To learn more about some of the other layer types that **napari** supports\n",
    "checkout some more of our tutorials listed below.\n",
    "The [shapes layer](./shapes) tutorial is a great one to try next\n",
    "as it describes more complex shapes and interactivity."
   ]
  }
 ],
 "metadata": {
  "celltoolbar": "Tags",
  "kernelspec": {
   "display_name": "Python 3",
   "language": "python",
   "name": "python3"
  },
  "language_info": {
   "codemirror_mode": {
    "name": "ipython",
    "version": 3
   },
   "file_extension": ".py",
   "mimetype": "text/x-python",
   "name": "python",
   "nbconvert_exporter": "python",
   "pygments_lexer": "ipython3",
   "version": "3.7.9"
  }
 },
 "nbformat": 4,
 "nbformat_minor": 2
}
