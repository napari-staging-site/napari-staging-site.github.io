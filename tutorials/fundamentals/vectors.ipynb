{
 "cells": [
  {
   "cell_type": "markdown",
   "metadata": {},
   "source": [
    "# vectors layer tutorial"
   ]
  },
  {
   "cell_type": "markdown",
   "metadata": {},
   "source": [
    "Welcome to the tutorial on the **napari** `Vectors` layer!\n",
    "\n",
    "This tutorial assumes you have already installed **napari**,\n",
    "know how to launch the viewer,\n",
    "and are familiar with its layout.\n",
    "For help with installation see our [installation](./installation) tutorial.\n",
    "For help getting started with the viewer see our [getting started](./getting_started) tutorial.\n",
    "For help understanding the organisation of the viewer,\n",
    "including things like the layers list,\n",
    "the layer properties widgets,\n",
    "the layer control panels,\n",
    "and the dimension sliders\n",
    "see our [napari viewer](./viewer) tutorial.\n",
    "\n",
    "This tutorial will teach you about the **napari** `Vectors` layer,\n",
    "including how to display many vectors simultaneously and adjust their properties.\n",
    "At the end of the tutorial you should understand how to add a vectors layer\n",
    "and edit it from the GUI and from the console.\n",
    "\n",
    "The vectors layer allows you to display many vectors with defined starting points and directions.\n",
    "It is particularly useful for people who want to visualize large vector fields,\n",
    "for example if you are doing polarization microscopy.\n",
    "You can adjust the color, width, and length of all the vectors both programmatically and from the GUI."
   ]
  },
  {
   "cell_type": "markdown",
   "metadata": {},
   "source": [
    "## a simple example\n",
    "\n",
    "You can create a new viewer and add vectors in one go using the `napari.view_vectors` method,\n",
    "or if you already have an existing viewer, you can add shapes to it using `viewer.add_vectors`.\n",
    "The api of both methods is the same.\n",
    "In these examples we'll mainly use `add_vectors` to overlay shapes onto on an existing image.\n",
    "\n",
    "In this example of we will overlay some shapes on the image of a photographer:"
   ]
  },
  {
   "cell_type": "code",
   "execution_count": null,
   "metadata": {},
   "outputs": [],
   "source": [
    "%gui qt  # we need to start the Qt event loop before importing napari"
   ]
  },
  {
   "cell_type": "code",
   "execution_count": null,
   "metadata": {
    "tags": [
     "remove-cell"
    ]
   },
   "outputs": [],
   "source": [
    "# This cell is required for the automated continuous integration\n",
    "# It allows the async Qt magic in the previous cell time to load\n",
    "import time\n",
    "\n",
    "time.sleep(1)"
   ]
  },
  {
   "cell_type": "code",
   "execution_count": null,
   "metadata": {},
   "outputs": [],
   "source": [
    "import napari\n",
    "import numpy as np\n",
    "from skimage import data\n",
    "\n",
    "# create vector data\n",
    "n = 250\n",
    "vectors = np.zeros((n, 2, 2), dtype=np.float32)\n",
    "phi_space = np.linspace(0, 4 * np.pi, n)\n",
    "radius_space = np.linspace(0, 100, n)\n",
    "# assign x-y projection\n",
    "vectors[:, 1, 0] = radius_space * np.cos(phi_space)\n",
    "vectors[:, 1, 1] = radius_space * np.sin(phi_space)\n",
    "# assign x-y position\n",
    "vectors[:, 0] = vectors[:, 1] + 256\n",
    "\n",
    "# add the image\n",
    "viewer = napari.view_image(data.camera(), name='photographer')\n",
    "# add the vectors\n",
    "viewer.add_vectors(vectors, edge_width=3)"
   ]
  },
  {
   "cell_type": "code",
   "execution_count": null,
   "metadata": {
    "tags": [
     "hide-input"
    ]
   },
   "outputs": [],
   "source": [
    "from napari.utils import nbscreenshot\n",
    "\n",
    "nbscreenshot(viewer)"
   ]
  },
  {
   "cell_type": "code",
   "execution_count": null,
   "metadata": {
    "tags": [
     "remove-cell"
    ]
   },
   "outputs": [],
   "source": [
    "viewer.close()"
   ]
  },
  {
   "cell_type": "markdown",
   "metadata": {},
   "source": [
    "## arguments of view_vectors and add_vectors\n",
    "\n",
    "Both `view_vectors` and `add_vectors` have the following doc strings:"
   ]
  },
  {
   "cell_type": "code",
   "execution_count": null,
   "metadata": {},
   "outputs": [],
   "source": [
    "napari.view_vectors?"
   ]
  },
  {
   "cell_type": "markdown",
   "metadata": {},
   "source": [
    "## vectors data\n",
    "\n",
    "The input data to the vectors layer must either be a Nx2xD numpy array\n",
    "representing N vectors with start position and projection values in D dimensions,\n",
    "or it must be an N1xN2 ... xNDxD, array\n",
    "where each of the first D dimensions corresponds to the voxel of the location of the vector,\n",
    "and the last dimension contains the D values of the projection of that vector.\n",
    "The former representation is useful when you have vectors that can start in arbitrary positions in the canvas.\n",
    "The latter representation is useful when your vectors are defined on a grid,\n",
    "say corresponding to the voxels of an image,\n",
    "and you have one vector per grid."
   ]
  },
  {
   "cell_type": "markdown",
   "metadata": {},
   "source": [
    "See here for the example from [`examples/add_vectors_image.py`](https://github.com/napari/napari/blob/master/examples/add_vectors_image.py) of a grid of vectors defined over a random image:\n",
    "\n",
    "![image: add vectors overlaid on an image](../assets/tutorials/add_vectors_image.png)"
   ]
  },
  {
   "cell_type": "markdown",
   "metadata": {},
   "source": [
    "Regardless of how the data is passed, we convert it to the Nx2xD representation internally.\n",
    "This representation is  accessible through the `layer.data` property.\n",
    "\n",
    "Editing the start position of the vectors from the GUI is not possible.\n",
    "Nor is it possible to draw vectors from the GUI.\n",
    "If you want to draw lines from the GUI you should use the `Lines` shape inside a `Shapes` layer."
   ]
  },
  {
   "cell_type": "markdown",
   "metadata": {},
   "source": [
    "## 3D rendering of vectors\n",
    "\n",
    "All our layers can be rendered in both 2D and 3D mode,\n",
    "and one of our viewer buttons can toggle between each mode.\n",
    "The number of dimensions sliders will be 2 or 3 less than the total number of dimensions of the layer.\n",
    "See for example the [`examples/nD_vectors.py`](https://github.com/napari/napari/blob/master/examples/nD_vectors.py) to see shapes in both 2D and 3D:"
   ]
  },
  {
   "cell_type": "markdown",
   "metadata": {},
   "source": [
    "![image: nD vectors](../assets/tutorials/nD_vectors.gif)"
   ]
  },
  {
   "cell_type": "markdown",
   "metadata": {},
   "source": [
    "## changing vector length, width, and color\n",
    "\n",
    "You can multiplicatively scale the length of all the vectors projections using the `layer.length` property or combobox inside the layer controls panel.\n",
    "\n",
    "You can also set the width of all the vectors in a layer using the `layer.width` property or combobox inside the layer controls panel.\n",
    "\n",
    "You can also set the color of all the vectors in a layer using the `layer.edge_color` property or dropdown menu inside the layer controls panel."
   ]
  },
  {
   "cell_type": "markdown",
   "metadata": {},
   "source": [
    "## layer visibility\n",
    "\n",
    "All our layers support a visibility toggle that allows you to set the `visible` property of each layer.\n",
    "This property is located inside the layer widget in the layers list and is represented by an eye icon."
   ]
  },
  {
   "cell_type": "markdown",
   "metadata": {},
   "source": [
    "## layer opacity\n",
    "\n",
    "All our layers support an opacity slider and `opacity` property\n",
    "that allow you to adjust the layer opacity between 0, fully invisible, and 1, fully visible.\n",
    "The opacity value applies globally to all the vectors in the layer."
   ]
  },
  {
   "cell_type": "markdown",
   "metadata": {},
   "source": [
    "## blending layers\n",
    "\n",
    "All our layers support three blending modes `translucent`, `additive`, and `opaque`\n",
    "that determine how the visuals for this layer get mixed with the visuals from the other layers.\n",
    "\n",
    "An `opaque` layer renders all the other layers below it invisible\n",
    "and will fade to black as you decrease its opacity.\n",
    "\n",
    "The `translucent` setting will cause the layer to blend with the layers below it if you decrease its opacity\n",
    "but will fully block those layers if its opacity is 1.\n",
    "This is a reasonable default, useful for many applications.\n",
    "\n",
    "The final blending mode `additive` will cause the layer to blend with the layers below\n",
    "even when it has full opacity.\n",
    "This mode is especially useful for visualizing multiple layers at the same time."
   ]
  },
  {
   "cell_type": "markdown",
   "metadata": {},
   "source": [
    "## naming layers\n",
    "\n",
    "All our layers support a `name` property that can be set inside a text box inside the layer widget in the layers list.\n",
    "The name of each layer is forced into being unique\n",
    "so that you can use the name to index into `viewer.layers` to retrieve the layer object."
   ]
  },
  {
   "cell_type": "markdown",
   "metadata": {},
   "source": [
    "## scaling layers\n",
    "\n",
    "All our layers support a `scale` property and keyword argument\n",
    "that will rescale the layer multiplicatively according to the scale values (one for each dimension).\n",
    "This property can be particularly useful for viewing anisotropic data\n",
    "where the size of the voxel in the z dimension might be different then the size in the x and y dimensions."
   ]
  },
  {
   "cell_type": "markdown",
   "metadata": {},
   "source": [
    "## translating layers\n",
    "\n",
    "All our layers support a `translate` property and keyword argument\n",
    "that you can use to offset a layer relative to the other layers,\n",
    "which could be useful if you are trying to overlay two layers for image registration purposes."
   ]
  },
  {
   "cell_type": "markdown",
   "metadata": {},
   "source": [
    "## layer metadata\n",
    "\n",
    "All our layers also support a `metadata` property and keyword argument\n",
    "that you can use to store an arbitrary metadata dictionary on the layer."
   ]
  },
  {
   "cell_type": "markdown",
   "metadata": {},
   "source": [
    "## next steps\n",
    "\n",
    "Hopefully, this tutorial has given you a detailed understanding of the `Vectors` layer,\n",
    "including how to create one and control its properties.\n",
    "If you've explored all the other layer types that **napari** supports\n",
    "maybe checkout our [gallery](../gallery) for some cool examples of using napari with scientific data."
   ]
  }
 ],
 "metadata": {
  "celltoolbar": "Tags",
  "kernelspec": {
   "display_name": "Python 3",
   "language": "python",
   "name": "python3"
  },
  "language_info": {
   "codemirror_mode": {
    "name": "ipython",
    "version": 3
   },
   "file_extension": ".py",
   "mimetype": "text/x-python",
   "name": "python",
   "nbconvert_exporter": "python",
   "pygments_lexer": "ipython3",
   "version": "3.7.9"
  }
 },
 "nbformat": 4,
 "nbformat_minor": 2
}
