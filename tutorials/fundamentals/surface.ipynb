{
 "cells": [
  {
   "cell_type": "markdown",
   "metadata": {},
   "source": [
    "# surface layer tutorial"
   ]
  },
  {
   "cell_type": "markdown",
   "metadata": {},
   "source": [
    "Welcome to the tutorial on the **napari** `Surface` layer!\n",
    "\n",
    "This tutorial assumes you have already installed **napari**,\n",
    "know how to launch the viewer,\n",
    "and are familiar with its layout.\n",
    "For help with installation see our [installation](./installation) tutorial.\n",
    "For help getting started with the viewer see our [getting started](./getting_started) tutorial.\n",
    "For help understanding the organisation of the viewer,\n",
    "including things like the layers list,\n",
    "the layer properties widgets,\n",
    "the layer control panels,\n",
    "and the dimension sliders\n",
    "see our [napari viewer](./viewer) tutorial.\n",
    "\n",
    "This tutorial will teach you about the **napari** `Surface` layer,\n",
    "including how to display surface data\n",
    "and edit the properties of surfaces like the contrast, opacity, colormaps and blending mode.\n",
    "At the end of the tutorial you should understand how to add and manipulate surfaces\n",
    "both from the GUI and from the console.\n",
    "\n",
    "The surface layer allows you to display a precomputed surface mesh\n",
    "that is defined by an NxD array of N vertices in D coordinates,\n",
    "an Mx3 integer array of the indices of the triangles making up the faces of the surface,\n",
    "and a length N list of values to associate with each vertex to use alongside a colormap."
   ]
  },
  {
   "cell_type": "markdown",
   "metadata": {},
   "source": [
    "## a simple example\n",
    "\n",
    "You can create a new viewer and add a surface in one go using the `napari.view_surface` method,\n",
    "or if you already have an existing viewer, you can add an image to it using `viewer.add_surface`.\n",
    "The api of both methods is the same.\n",
    "In these examples we'll mainly use `view_surface`.\n",
    "\n",
    "A simple example of viewing a surface is as follows:"
   ]
  },
  {
   "cell_type": "code",
   "execution_count": null,
   "metadata": {},
   "outputs": [],
   "source": [
    "%gui qt  # we need to start the Qt event loop before importing napari"
   ]
  },
  {
   "cell_type": "code",
   "execution_count": null,
   "metadata": {
    "tags": [
     "remove-cell"
    ]
   },
   "outputs": [],
   "source": [
    "# This cell is required for the automated continuous integration\n",
    "# It allows the async Qt magic in the previous cell time to load\n",
    "import time\n",
    "\n",
    "time.sleep(1)"
   ]
  },
  {
   "cell_type": "code",
   "execution_count": null,
   "metadata": {},
   "outputs": [],
   "source": [
    "import napari\n",
    "import numpy as np\n",
    "\n",
    "vertices = np.array([[0, 0], [0, 20], [10, 0], [10, 10]])\n",
    "faces = np.array([[0, 1, 2], [1, 2, 3]])\n",
    "values = np.linspace(0, 1, len(vertices))\n",
    "surface = (vertices, faces, values)\n",
    "\n",
    "viewer = napari.view_surface(surface)  # add the surface"
   ]
  },
  {
   "cell_type": "code",
   "execution_count": null,
   "metadata": {
    "tags": [
     "hide-input"
    ]
   },
   "outputs": [],
   "source": [
    "from napari.utils import nbscreenshot\n",
    "\n",
    "nbscreenshot(viewer)"
   ]
  },
  {
   "cell_type": "code",
   "execution_count": null,
   "metadata": {
    "tags": [
     "remove-cell"
    ]
   },
   "outputs": [],
   "source": [
    "viewer.close()"
   ]
  },
  {
   "cell_type": "markdown",
   "metadata": {},
   "source": [
    "## arguments of view_surface and add_surface\n",
    "\n",
    "Both `view_surface` and `add_surface` have the following doc strings:"
   ]
  },
  {
   "cell_type": "code",
   "execution_count": null,
   "metadata": {},
   "outputs": [],
   "source": [
    "napari.view_surface?"
   ]
  },
  {
   "cell_type": "markdown",
   "metadata": {},
   "source": [
    "## surface data\n",
    "\n",
    "The data for a surface layer is defined by a 3-tuple of its vertices, faces, and vertex values.\n",
    "The vertices are an NxD array of N vertices in D coordinates.\n",
    "The faces are an Mx3 integer array of the indices of the triangles making up the faces of the surface.\n",
    "The vertex values are a length N list of values to associate with each vertex to use alongside a colormap.\n",
    "This 3-tuple is accessible through the `layer.data` property."
   ]
  },
  {
   "cell_type": "markdown",
   "metadata": {},
   "source": [
    "## 3D rendering of images\n",
    "\n",
    "All our layers can be rendered in both 2D and 3D mode,\n",
    "and one of our viewer buttons can toggle between each mode.\n",
    "The number of dimensions sliders will be 2 or 3 less than the total number of dimensions of the layer.\n",
    "See for example these brain surfaces rendered in 3D:"
   ]
  },
  {
   "cell_type": "markdown",
   "metadata": {},
   "source": [
    "![image: brain surface](../assets/tutorials/brain_surface.gif)"
   ]
  },
  {
   "cell_type": "markdown",
   "metadata": {},
   "source": [
    "## working with colormaps\n",
    "\n",
    "The same colormaps available for the `Image` layer are also available for the `Surface` layer.\n",
    "napari supports any colormap that is created with `vispy.color.Colormap`.\n",
    "We provide access to some standard colormaps that you can set using a string of their name."
   ]
  },
  {
   "cell_type": "markdown",
   "metadata": {},
   "source": [
    "These include:\n",
    "\n",
    "- PiYG\n",
    "- blue\n",
    "- cyan\n",
    "- gist_earth\n",
    "- gray\n",
    "- green\n",
    "- hsv\n",
    "- inferno\n",
    "- magma\n",
    "- magenta\n",
    "- plasma\n",
    "- red\n",
    "- turbo\n",
    "- twilight\n",
    "- twilight_shifted\n",
    "- yellow\n",
    "- viridis\n"
   ]
  },
  {
   "cell_type": "markdown",
   "metadata": {},
   "source": [
    "Passing any of these as follows as keyword arguments will set the colormap of that surface.\n",
    "You can also access the current colormap through the `layer.colormap` property\n",
    "which returns a tuple of the colormap name followed by the vispy colormap object.\n",
    "You can list all the available colormaps using `layer.colormaps`.\n",
    "\n",
    "It is also possible to create your own colormaps using vispy's `vispy.color.Colormap` object,\n",
    "see it's full [documentation here](http://vispy.org/color.html#vispy.color.Colormap).\n",
    "For more detail see the [image layer tutorial](./image)."
   ]
  },
  {
   "cell_type": "markdown",
   "metadata": {},
   "source": [
    "## adjusting contrast limits\n",
    "\n",
    "The vertex values of the surface layer get mapped through its colormap according to values called contrast limits.\n",
    "These are a 2-tuple of values defining how what values get applied the minimum and maximum of the colormap\n",
    "and follow the same principles as the `contrast_limits` described in the [image layer tutorial](./image).\n",
    "They are also accessible through the same keyword arguments, properties, and range slider as in the image layer."
   ]
  },
  {
   "cell_type": "markdown",
   "metadata": {},
   "source": [
    "## layer visibility\n",
    "\n",
    "All our layers support a visibility toggle that allows you to set the `visible` property of each layer.\n",
    "This property is located inside the layer widget in the layers list and is represented by an eye icon."
   ]
  },
  {
   "cell_type": "markdown",
   "metadata": {},
   "source": [
    "## layer opacity\n",
    "\n",
    "All our layers support an opacity slider and `opacity` property\n",
    "that allow you to adjust the layer opacity between 0, fully invisible, and 1, fully visible."
   ]
  },
  {
   "cell_type": "markdown",
   "metadata": {},
   "source": [
    "## blending layers\n",
    "\n",
    "All our layers support three blending modes `translucent`, `additive`, and `opaque`\n",
    "that determine how the visuals for this layer get mixed with the visuals from the other layers.\n",
    "\n",
    "An `opaque` layer renders all the other layers below it invisible\n",
    "and will fade to black as you decrease its opacity.\n",
    "\n",
    "The `translucent` setting will cause the layer to blend with the layers below it if you decrease its opacity\n",
    "but will fully block those layers if its opacity is 1.\n",
    "This is a reasonable default, useful for many applications.\n",
    "\n",
    "The final blending mode `additive` will cause the layer to blend with the layers below even when it has full opacity.\n",
    "This mode is especially useful for visualizing multiple layers at the same time.\n"
   ]
  },
  {
   "cell_type": "markdown",
   "metadata": {},
   "source": [
    "## naming layers\n",
    "\n",
    "All our layers support a `name` property that can be set inside a text box inside the layer widget in the layers list.\n",
    "The name of each layer is forced into being unique\n",
    "so that you can use the name to index into `viewer.layers` to retrieve the layer object."
   ]
  },
  {
   "cell_type": "markdown",
   "metadata": {},
   "source": [
    "## scaling layers\n",
    "\n",
    "All our layers support a `scale` property and keyword argument\n",
    "that will rescale the layer multiplicatively according to the scale values (one for each dimension).\n",
    "This property can be particularly useful for viewing anisotropic data\n",
    "where the size of the voxel in the z dimension might be different then the size in the x and y dimensions."
   ]
  },
  {
   "cell_type": "markdown",
   "metadata": {},
   "source": [
    "## translating layers\n",
    "\n",
    "All our layers support a `translate` property and keyword argument\n",
    "that you can use to offset a layer relative to the other layers,\n",
    "which could be useful if you are trying to overlay two layers for image registration purposes."
   ]
  },
  {
   "cell_type": "markdown",
   "metadata": {},
   "source": [
    "## layer metadata\n",
    "\n",
    "All our layers also support a `metadata` property and keyword argument\n",
    "that you can use to store an arbitrary metadata dictionary on the layer."
   ]
  },
  {
   "cell_type": "markdown",
   "metadata": {},
   "source": [
    "## next steps\n",
    "\n",
    "Hopefully, this tutorial has given you a detailed understanding of the `Vectors` layer,\n",
    "including how to create one and control its properties.\n",
    "To learn more about some of the other layer types that **napari** supports\n",
    "checkout some more of our tutorials listed below.\n",
    "The [vectors layer](./vectors) tutorial is a great one to try next as it describes rendering lots of lines."
   ]
  }
 ],
 "metadata": {
  "celltoolbar": "Tags",
  "kernelspec": {
   "display_name": "Python 3",
   "language": "python",
   "name": "python3"
  },
  "language_info": {
   "codemirror_mode": {
    "name": "ipython",
    "version": 3
   },
   "file_extension": ".py",
   "mimetype": "text/x-python",
   "name": "python",
   "nbconvert_exporter": "python",
   "pygments_lexer": "ipython3",
   "version": "3.7.9"
  }
 },
 "nbformat": 4,
 "nbformat_minor": 2
}
