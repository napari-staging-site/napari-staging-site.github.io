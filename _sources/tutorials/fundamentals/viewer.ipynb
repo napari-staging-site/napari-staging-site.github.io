{
 "cells": [
  {
   "cell_type": "markdown",
   "metadata": {},
   "source": [
    "# napari viewer tutorial"
   ]
  },
  {
   "cell_type": "markdown",
   "metadata": {},
   "source": [
    "Welcome to the tutorial on the **napari** viewer!\n",
    "\n",
    "This tutorial assumes you have already installed **napari** and know how to launch the viewer.\n",
    "For help with installation see our [installation](./installation) tutorial.\n",
    "For help getting started with the viewer see our [getting started](./getting_started) tutorial.\n",
    "\n",
    "This tutorial will teach you about the **napari** viewer,\n",
    "including how to use its graphical user interface (GUI)\n",
    "and how the data within it is organized.\n",
    "At the end of the tutorial you should understand the both the layout of the viewer on the screen and the data inside of it."
   ]
  },
  {
   "cell_type": "markdown",
   "metadata": {},
   "source": [
    "## launching the viewer\n",
    "\n",
    "As discussed in [getting started](./getting_started) tutorial\n",
    "the napari viewer can be launched from the command-line,\n",
    "a python script,\n",
    "an IPython console,\n",
    "or a jupyter notebook.\n",
    "All four methods launch the same viewer,\n",
    "and anything related to the interacting with the viewer on the screen applies equally to all of them.\n",
    "We will use the syntax inside python scripts\n",
    "so you can copy and paste these examples into scripts and run them.\n",
    "If you are using as IPython console (launched with `IPython --gui=qt`) then you won't need to use the `napari.gui_qt` context.\n",
    "\n",
    "Let's get stated by launching a viewer with a simple 2D image.\n",
    "\n",
    "The fastest way to get the viewer open and throw an image up on the screen is using the `napari.view_image` method:"
   ]
  },
  {
   "cell_type": "code",
   "execution_count": null,
   "metadata": {},
   "outputs": [],
   "source": [
    "%gui qt  # we need to start the Qt event loop before importing napari"
   ]
  },
  {
   "cell_type": "code",
   "execution_count": null,
   "metadata": {
    "tags": [
     "remove-cell"
    ]
   },
   "outputs": [],
   "source": [
    "# This cell is required for the automated continuous integration\n",
    "# It allows the async Qt magic in the previous cell time to load\n",
    "import time\n",
    "\n",
    "time.sleep(1)"
   ]
  },
  {
   "cell_type": "code",
   "execution_count": null,
   "metadata": {},
   "outputs": [],
   "source": [
    "import napari\n",
    "from skimage import data\n",
    "\n",
    "viewer = napari.view_image(data.astronaut(), rgb=True)"
   ]
  },
  {
   "cell_type": "code",
   "execution_count": null,
   "metadata": {
    "tags": [
     "remove-cell"
    ]
   },
   "outputs": [],
   "source": [
    "viewer.close()"
   ]
  },
  {
   "cell_type": "markdown",
   "metadata": {},
   "source": [
    "Calling `napari.view_image` will return a `Viewer` object that is the main object inside **napari**.\n",
    "All the data you add to **napari** will be stored inside the `Viewer` object and will be accessible from it.\n",
    "This command will also open the viewer to create a GUI that you can interact with.\n",
    "\n",
    "You can also create an empty `Viewer` directly and then start adding images to it.\n",
    "For example:"
   ]
  },
  {
   "cell_type": "code",
   "execution_count": null,
   "metadata": {},
   "outputs": [],
   "source": [
    "import napari\n",
    "from skimage import data\n",
    "\n",
    "viewer = napari.Viewer()\n",
    "viewer.add_image(data.astronaut(), rgb=True)"
   ]
  },
  {
   "cell_type": "markdown",
   "metadata": {},
   "source": [
    "`add_image` accepts the same arguments as `view_image`\n",
    "but doesn't create a `Viewer`, as you must already have one to use it.\n",
    "\n",
    "After running either of those two commands\n",
    "you should now be able to see the photograph of the astronaut in the **napari** viewer as shown below"
   ]
  },
  {
   "cell_type": "code",
   "execution_count": null,
   "metadata": {
    "tags": [
     "hide-input"
    ]
   },
   "outputs": [],
   "source": [
    "from napari.utils import nbscreenshot\n",
    "\n",
    "nbscreenshot(viewer)"
   ]
  },
  {
   "cell_type": "code",
   "execution_count": null,
   "metadata": {
    "tags": [
     "remove-cell"
    ]
   },
   "outputs": [],
   "source": [
    "viewer.close()"
   ]
  },
  {
   "cell_type": "markdown",
   "metadata": {},
   "source": [
    "Both the `view_image` and the `add_image` methods accept any numpy-array like object as an input,\n",
    "including n-dimensional arrays.\n",
    "For more information on adding images to the viewer\n",
    "see the [image layer](./image) tutorial.\n",
    "Now we will continue exploring the rest of the viewer."
   ]
  },
  {
   "cell_type": "markdown",
   "metadata": {},
   "source": [
    "## layout of the viewer\n",
    "\n",
    "The viewer is organized into a few key areas:\n",
    "\n",
    "- main canvas\n",
    "- layer list\n",
    "- layer controls\n",
    "- new layer buttons\n",
    "- viewer buttons\n",
    "- console\n",
    "- dimension sliders\n",
    "- status bar\n",
    "\n",
    "We'll go through each of these in the next sections.\n"
   ]
  },
  {
   "cell_type": "markdown",
   "metadata": {},
   "source": [
    "### main canvas\n",
    "\n",
    "The main canvas is in the center of the viewer\n",
    "and contains the visual display of the data passed to **napari**,\n",
    "including images, point, shapes, and our other supported data types.\n",
    "Under the hood the canvas is a `vispy.scene.SceneCanvas` object\n",
    "which has built-in support for features such as zooming and panning.\n",
    "As `vispy` uses `OpenGL` and your graphics card, panning and zooming are highly performant.\n",
    "You can also return to the original zoom level by clicking the `home` button in the viewer buttons panel."
   ]
  },
  {
   "cell_type": "markdown",
   "metadata": {},
   "source": [
    "![image: pan and zoom with napari](../assets/tutorials/viewer_pan_zoom.gif)"
   ]
  },
  {
   "cell_type": "markdown",
   "metadata": {},
   "source": [
    "### layer list\n",
    "\n",
    "One of the basic **napari** objects are layers.\n",
    "There are different layer types for `Image`, `Points`, `Shapes`, and other basic data types.\n",
    "They can be added to the viewer either programmatically or through the GUI.\n",
    "Once added they start to populate the layer list located on the bottom lefthand side of the main canvas.\n",
    "\n",
    "The layer list contains one widget for each of the layers that have been added to the viewer\n",
    "and includes a `thumbnail` which shows a miniaturized version of the currently viewed data,\n",
    "a `name` that is an editable text box,\n",
    "`visibility` button that can be toggled on or off to show or hide the layer,\n",
    "and an `icon` for the layer type.\n",
    "\n",
    "Adding the following three image layers using the code below adds three-layer widgets to the layer list as follows:"
   ]
  },
  {
   "cell_type": "code",
   "execution_count": null,
   "metadata": {},
   "outputs": [],
   "source": [
    "import napari\n",
    "from skimage import data\n",
    "\n",
    "viewer = napari.Viewer()\n",
    "viewer.add_image(data.astronaut(), name='astronaut')\n",
    "viewer.add_image(data.moon(), name='moon')\n",
    "viewer.add_image(data.camera(), name='camera')"
   ]
  },
  {
   "cell_type": "markdown",
   "metadata": {},
   "source": [
    "![image: layerlist](../assets/tutorials/layerlist.png)"
   ]
  },
  {
   "cell_type": "markdown",
   "metadata": {
    "tags": [
     "rmeove-cell"
    ]
   },
   "source": [
    "When the problem with nbscreenshot and the layerlist is resolved, we should replace the PNG image in the cell above with a call to `nbscreenshot`.\n",
    "\n",
    "https://github.com/napari/napari/issues/1596\n",
    "\n",
    "    \n",
    "```python\n",
    "from napari.utils import nbscreenshot\n",
    "\n",
    "nbscreenshot(viewer)\n",
    "```\n",
    "\n",
    "Remember to use the `hide-input` tag for screenshot cells in the notebook."
   ]
  },
  {
   "cell_type": "markdown",
   "metadata": {},
   "source": [
    "Note that we've also also named each of the layers using the `name` keyword argument in `add_image`,\n",
    "and that name has appeared as a string in the layer widget.\n",
    "The layer name is coerced into being unique so that it can be used to index into the `LayerList`.\n",
    "\n",
    "You can select layers, causing them to become outlined, by clicking on their layer widget.\n",
    "Multiple layers can be simultaneously selected using either `shift` or `command` click\n",
    " to select either all the layers in between clicked-on layers or just the clicked-on layers respectively.\n",
    "\n",
    "You can rearrange the order of the layers by dragging them,\n",
    "including dragging multiple layers at the same time.\n",
    "\n",
    "The `Viewer` object also contains our `LayerList` object that allows you to access the data of all the layers by"
   ]
  },
  {
   "cell_type": "code",
   "execution_count": null,
   "metadata": {},
   "outputs": [],
   "source": [
    "viewer.layers"
   ]
  },
  {
   "cell_type": "markdown",
   "metadata": {},
   "source": [
    "This object can be indexed like a normal list using an `int`\n",
    "or using the `str` name of the layer as follows"
   ]
  },
  {
   "cell_type": "code",
   "execution_count": null,
   "metadata": {},
   "outputs": [],
   "source": [
    "viewer.layers[0]"
   ]
  },
  {
   "cell_type": "code",
   "execution_count": null,
   "metadata": {},
   "outputs": [],
   "source": [
    "viewer.layers['astronaut']"
   ]
  },
  {
   "cell_type": "markdown",
   "metadata": {},
   "source": [
    "You can rearrange layers by clicking and dragging them."
   ]
  },
  {
   "cell_type": "code",
   "execution_count": null,
   "metadata": {
    "tags": [
     "remove-cell"
    ]
   },
   "outputs": [],
   "source": [
    "viewer.close"
   ]
  },
  {
   "cell_type": "markdown",
   "metadata": {},
   "source": [
    "### layer controls\n",
    "\n",
    "Above the layers list in the top left corner of the viewer there is a box that contains the layer controls.\n",
    "The controls that you have available to you depend on the layer type that you have selected.\n",
    "\n",
    "For example, if you add a `Points` layer after adding an `Image` layer you will now see different controls present."
   ]
  },
  {
   "cell_type": "code",
   "execution_count": null,
   "metadata": {},
   "outputs": [],
   "source": [
    "import napari\n",
    "import numpy as np\n",
    "from skimage import data\n",
    "\n",
    "viewer = napari.view_image(data.astronaut(), rgb=True)\n",
    "points = np.array([[100, 100], [200, 200], [300, 100]])\n",
    "viewer.add_points(points, size=30)"
   ]
  },
  {
   "cell_type": "code",
   "execution_count": null,
   "metadata": {
    "tags": [
     "hide-input"
    ]
   },
   "outputs": [],
   "source": [
    "from napari.utils import nbscreenshot\n",
    "\n",
    "nbscreenshot(viewer)"
   ]
  },
  {
   "cell_type": "markdown",
   "metadata": {},
   "source": [
    "![image: add points](../assets/tutorials/add_points.png)"
   ]
  },
  {
   "cell_type": "markdown",
   "metadata": {},
   "source": [
    "Adjusting these properties in the GUI will cause corresponding changes to properties on the individual layers that are accessible in the console through `viewer.layers`.\n",
    "\n",
    "For example, the name and opacity of a layer can be changed within the console as follows:"
   ]
  },
  {
   "cell_type": "markdown",
   "metadata": {},
   "source": [
    "viewer.layers[0].name = 'astronaut'\n",
    "viewer.layers[0].opacity = 0.7"
   ]
  },
  {
   "cell_type": "code",
   "execution_count": null,
   "metadata": {
    "tags": [
     "remove-cell"
    ]
   },
   "outputs": [],
   "source": [
    "viewer.close()"
   ]
  },
  {
   "cell_type": "markdown",
   "metadata": {},
   "source": [
    "and these changes will instantly propagate to the GUI.\n",
    "For more information about the different properties for different layer types\n",
    "please see our layer specific tutorials listed at the bottom of this tutorial."
   ]
  },
  {
   "cell_type": "markdown",
   "metadata": {},
   "source": [
    "### new layer buttons\n",
    "\n",
    "New `Points`, `Shapes`, and `Labels` layers can be added to the viewer\n",
    "using the new layer buttons in the bottom righthand corner of the GUI.\n",
    "These correspond to the calls such as:\n",
    "\n",
    "```python\n",
    "viewer.add_points(data)\n",
    "viewer.add_shapes(data)\n",
    "viewer.add_labels(data)\n",
    "```\n",
    "\n",
    "but with empty data.\n",
    "Once added in the GUI these layers become accessible in the layers list and at `viewer.layers`.\n",
    "\n",
    "Layers can also be deleted by selecting them and then clicking on the trash icon,\n",
    "or by dragging the layers and dropping them into the trash.\n",
    "\n",
    "In the console a layer at index `i` can be removed by\n",
    "\n",
    "```python\n",
    "viewer.layers.pop(i)\n",
    "```"
   ]
  },
  {
   "cell_type": "markdown",
   "metadata": {},
   "source": [
    "## dimension sliders\n",
    "\n",
    "One of the main strengths of **napari** is that it has been designed from the beginning to handle n-dimensional data.\n",
    "While much consumer photography is 2D and `RGB`,\n",
    "scientific image data can often be volumetric (i.e. 3D),\n",
    "volumetric timeseries (i.e. 4D),\n",
    "or even higher dimensional.\n",
    "**napari** places no limits on the dimensionality of its input data for all its layer types.\n",
    "\n",
    "Adding data with a dimensionality greater than 2D\n",
    "will cause dimension sliders to appear directly underneath the main canvas and above the status bar.\n",
    "As many sliders as needed will appear to ensure the data can be fully browsed.\n",
    "For example, a 3D dataset needs one slider, a 4D dataset needs two sliders, and so on.\n",
    "The widths of the scroll bars of the dimension sliders\n",
    "are directly related to how many slices are in each dimension.\n",
    "\n",
    "It is also possible to mix data of different shapes and dimensionality in different layers.\n",
    "If a 2D and 4D dataset are both added to the viewer\n",
    "then the sliders will only affect the 4D dataset and the 2D dataset will be remain the same.\n",
    "Effectively, the two datasets are broadcast together using [NumPy broadcasting rules](https://docs.scipy.org/doc/numpy/user/basics.broadcasting.html).\n",
    "\n",
    "For example, the following commands from the console will add a both 2D and 3D datasets to the same viewer:"
   ]
  },
  {
   "cell_type": "code",
   "execution_count": null,
   "metadata": {},
   "outputs": [],
   "source": [
    "import napari\n",
    "import numpy as np\n",
    "from skimage import data\n",
    "\n",
    "viewer = napari.Viewer()\n",
    "viewer.add_image(data.moon(), name='moon')\n",
    "blobs = np.stack(\n",
    "    [\n",
    "        data.binary_blobs(\n",
    "            length=512, blob_size_fraction=0.05, n_dim=2, volume_fraction=f\n",
    "        )\n",
    "        for f in np.linspace(0.05, 0.5, 10)\n",
    "    ],\n",
    "    axis=0,\n",
    ").astype(float)\n",
    "viewer.add_image(blobs, name='blobs', opacity=0.5, colormap='red')"
   ]
  },
  {
   "cell_type": "code",
   "execution_count": null,
   "metadata": {
    "tags": [
     "hide-input"
    ]
   },
   "outputs": [],
   "source": [
    "from napari.utils import nbscreenshot\n",
    "\n",
    "nbscreenshot(viewer)"
   ]
  },
  {
   "cell_type": "markdown",
   "metadata": {},
   "source": [
    "### viewer buttons\n",
    "\n",
    "Underneath the layers list there is a row of buttons that includes the `Console` button\n",
    "that will show or hide our console that allows you to interact with a python kernel.\n",
    "Inside the console you can access the viewer using the `viewer` argument.\n",
    "\n",
    "When the console button is clicked,\n",
    "the console will appear at the bottom of the viewer as follows:"
   ]
  },
  {
   "cell_type": "markdown",
   "metadata": {},
   "source": [
    "![image: console within napari](../assets/tutorials/console.png)"
   ]
  },
  {
   "cell_type": "markdown",
   "metadata": {},
   "source": [
    "We then have a button that switches between `2D` and `3D` rendering.\n",
    "Running the [`examples/nD_labels.py`](https://github.com/napari/napari/blob/master/examples/nD_labels.py)\n",
    "and clicking on the 3D button gives the following view:"
   ]
  },
  {
   "cell_type": "markdown",
   "metadata": {},
   "source": [
    "![image: nD labels](../assets/tutorials/nD_labels.png)"
   ]
  },
  {
   "cell_type": "markdown",
   "metadata": {},
   "source": [
    "Next to the 2D / 3D button is a button to roll the dimensions that are currently being displayed in the viewer -\n",
    "for example if you have a `ZYX` volume\n",
    "and are looking at the `YX` slice\n",
    "this will then show you the `ZY` slice.\n",
    "\n",
    "After that is a button that transposes the displayed dimensions.\n",
    "\n",
    "Finally, there is the `home` button that will reset the camera state to its initial values."
   ]
  },
  {
   "cell_type": "markdown",
   "metadata": {},
   "source": [
    "### status bar\n",
    "\n",
    "At the very bottom of the GUI there is a status bar that contains useful updates and tips.\n",
    "\n",
    "On the lefthand side of the status bar there is a message that contains information about the position of the mouse\n",
    "and the values of any images or the indices of any points that are currently hovered over, depending on which layer is selected.\n",
    "The status bar will also display information about what button you are clicking in the layer control panel too.\n",
    "\n",
    "The righthand side of the status bar contains some helpful tips\n",
    "depending on which layer and tools are currently selected."
   ]
  },
  {
   "cell_type": "markdown",
   "metadata": {},
   "source": [
    "## changing viewer theme\n",
    "\n",
    "Currently, **napari** comes with two different themes `light` and `dark`, which is the default.\n",
    "To change the theme just update `theme` property of the viewer, for example"
   ]
  },
  {
   "cell_type": "code",
   "execution_count": null,
   "metadata": {},
   "outputs": [],
   "source": [
    "import napari\n",
    "from skimage import data\n",
    "\n",
    "viewer = napari.Viewer()\n",
    "viewer.add_image(data.astronaut(), name='astronaut')\n",
    "\n",
    "# change the viewer theme\n",
    "viewer.theme = 'light'"
   ]
  },
  {
   "cell_type": "code",
   "execution_count": null,
   "metadata": {
    "tags": [
     "hide-input"
    ]
   },
   "outputs": [],
   "source": [
    "from napari.utils import nbscreenshot\n",
    "\n",
    "nbscreenshot(viewer)"
   ]
  },
  {
   "cell_type": "markdown",
   "metadata": {},
   "source": [
    "Adding your own custom theme isn't too hard either\n",
    "but does require creating your own color `palette` and rebuilding the icons.\n",
    "If people want more themes, we're happy to add them\n",
    "or if you look at our [contributing guidelines](https://github.com/napari/napari/tree/master/docs/CONTRIBUTING) for more information about building the icons\n",
    "and add one yourself!"
   ]
  },
  {
   "cell_type": "markdown",
   "metadata": {},
   "source": [
    "## custom keybinding\n",
    "\n",
    "One of the promises of **napari** is to provide a beginner friendly environment for interactive analysis.\n",
    "For example, we want to enable workflows where people can interact with the GUI,\n",
    "say click on the centers of some objects,\n",
    "or paint over some regions and then perform custom analysis.\n",
    "As a first step towards enabling custom interactivity\n",
    "we've provided support to add your own custom keybindings to the `Viewer` or individual `Layer` objects\n",
    "such that when the corresponding key gets clicked your custom function gets executed.\n",
    "Depending on which object you bind your key to,\n",
    "your function will either get access to the state of the entire `viewer` or `layer` object.\n",
    "\n",
    "For example, to bind function that loops through all layers in the viewer\n",
    "and prints their names to your console when you press the `p` key you can do the following:"
   ]
  },
  {
   "cell_type": "code",
   "execution_count": null,
   "metadata": {},
   "outputs": [],
   "source": [
    "import napari\n",
    "\n",
    "viewer = napari.Viewer()\n",
    "viewer.add_image(data.astronaut(), name='astronaut')\n",
    "\n",
    "@viewer.bind_key('p')\n",
    "def print_names(viewer):\n",
    "    print([layer.name for layer in viewer.layers])"
   ]
  },
  {
   "cell_type": "code",
   "execution_count": null,
   "metadata": {
    "tags": [
     "remove-cell"
    ]
   },
   "outputs": [],
   "source": [
    "viewer.close()"
   ]
  },
  {
   "cell_type": "markdown",
   "metadata": {},
   "source": [
    "By default, your key will bind to the key press event,\n",
    "but it is also possible to bind to the key release event by including a `yield` inside your function.\n",
    "All code before the `yield` will get executed on key press\n",
    "and all code after the `yield` will get executed on key release.\n",
    "The following example will print `hello` when you start to press the `m` key\n",
    "and print `goodbye` when you release it."
   ]
  },
  {
   "cell_type": "code",
   "execution_count": null,
   "metadata": {},
   "outputs": [],
   "source": [
    "import napari\n",
    "from skimage import data\n",
    "\n",
    "viewer = napari.Viewer()\n",
    "viewer.add_image(data.astronaut(), name='astronaut')\n",
    "\n",
    "@viewer.bind_key('m')\n",
    "def print_message(viewer):\n",
    "    print('hello')\n",
    "    yield\n",
    "    print('goodbye')"
   ]
  },
  {
   "cell_type": "code",
   "execution_count": null,
   "metadata": {},
   "outputs": [],
   "source": [
    "viewer.close()"
   ]
  },
  {
   "cell_type": "markdown",
   "metadata": {},
   "source": [
    "Keys can be bound both to the object class or a particular instance\n",
    "depending on if you want the keybinding to apply to all instances of the class\n",
    "or only one particular instance.\n",
    "\n",
    "Currently the keybindings only work when the main canvas is in focus,\n",
    "we are working to ensure they always work.\n",
    "\n",
    "The ability to add custom keybindings dramatically increases what is possible within **napari**\n",
    "and we hope you take full advantage of them."
   ]
  },
  {
   "cell_type": "markdown",
   "metadata": {},
   "source": [
    "## next steps\n",
    "\n",
    "Hopefully, this tutorial has given you an overview of the functionality available on the **napari** viewer,\n",
    "including the `LayerList` and some of the different layer types.\n",
    "To learn more about the different layer types that **napari** supports\n",
    "checkout some more of our tutorials listed below.\n",
    "The [image layer](./image) tutorial is a great one to try next\n",
    "as viewing images is a fundamental part of what **napari** is about."
   ]
  }
 ],
 "metadata": {
  "celltoolbar": "Tags",
  "kernelspec": {
   "display_name": "Python 3",
   "language": "python",
   "name": "python3"
  },
  "language_info": {
   "codemirror_mode": {
    "name": "ipython",
    "version": 3
   },
   "file_extension": ".py",
   "mimetype": "text/x-python",
   "name": "python",
   "nbconvert_exporter": "python",
   "pygments_lexer": "ipython3",
   "version": "3.7.9"
  }
 },
 "nbformat": 4,
 "nbformat_minor": 2
}
