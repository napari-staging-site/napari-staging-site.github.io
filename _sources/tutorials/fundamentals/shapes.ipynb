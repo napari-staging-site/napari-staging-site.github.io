{
 "cells": [
  {
   "cell_type": "markdown",
   "metadata": {},
   "source": [
    "# shapes layer tutorial"
   ]
  },
  {
   "cell_type": "markdown",
   "metadata": {},
   "source": [
    "Welcome to the tutorial on the **napari** `Shapes` layer!\n",
    "\n",
    "This tutorial assumes you have already installed **napari**,\n",
    "know how to launch the viewer,\n",
    "and are familiar with its layout.\n",
    "For help with installation see our [installation](./installation) tutorial.\n",
    "For help getting started with the viewer see our [getting started](./getting_started) tutorial.\n",
    "For help understanding the organisation of the viewer,\n",
    "including things like the layers list,\n",
    "the layer properties widgets,\n",
    "the layer control panels,\n",
    "and the dimension sliders see our [napari viewer](./viewer) tutorial.\n",
    "\n",
    "This tutorial will teach you about the **napari** `Shapes` layer,\n",
    "including how to display and edit shapes like rectangle, ellipses, polygons, paths, and lines.\n",
    "At the end of the tutorial you should understand how to add a shapes layer\n",
    "and edit it from the GUI and from the console.\n",
    "\n",
    "The points layer allows you to display a list of an NxD arrays,\n",
    "where each array corresponds to one shape, specified by N points in D coordinates.\n",
    "You can adjust the position, size, face color, edge color, and opacity of all the shapes independently, both programmatically and from the GUI.\n"
   ]
  },
  {
   "cell_type": "markdown",
   "metadata": {},
   "source": [
    "## a simple example\n",
    "\n",
    "You can create a new viewer and add a list of shapes in one go using the `napari.view_shapes` method,\n",
    "or if you already have an existing viewer, you can add shapes to it using `viewer.add_shapes`.\n",
    "The api of both methods is the same.\n",
    "In these examples we'll mainly use `add_shapes` to overlay shapes onto on an existing image.\n",
    "\n",
    "In this example of we will overlay some shapes on the image of a photographer:"
   ]
  },
  {
   "cell_type": "code",
   "execution_count": null,
   "metadata": {},
   "outputs": [],
   "source": [
    "%gui qt  # we need to start the Qt event loop before importing napari"
   ]
  },
  {
   "cell_type": "code",
   "execution_count": null,
   "metadata": {
    "tags": [
     "remove-cell"
    ]
   },
   "outputs": [],
   "source": [
    "# This cell is required for the automated continuous integration\n",
    "# It allows the async Qt magic in the previous cell time to load\n",
    "import time\n",
    "\n",
    "time.sleep(1)"
   ]
  },
  {
   "cell_type": "code",
   "execution_count": null,
   "metadata": {},
   "outputs": [],
   "source": [
    "import napari\n",
    "import numpy as np\n",
    "from skimage import data\n",
    "\n",
    "# create the list of polygons\n",
    "triangle = np.array([[11, 13], [111, 113], [22, 246]])\n",
    "person = np.array([[505, 60], [402, 71], [383, 42], [251, 95], [212, 59],\n",
    "                   [131, 137], [126, 187], [191, 204], [171, 248], [211, 260],\n",
    "                   [273, 243], [264, 225], [430, 173], [512, 160]])\n",
    "building = np.array([[310, 382], [229, 381], [209, 401], [221, 411],\n",
    "                     [258, 411], [300, 412], [306, 435], [268, 434],\n",
    "                     [265, 454], [298, 461], [307, 461], [307, 507],\n",
    "                     [349, 510], [352, 369], [330, 366], [330, 366]])\n",
    "polygons = [triangle, person, building]\n",
    "\n",
    "# add the image\n",
    "viewer = napari.view_image(data.camera(), name='photographer')\n",
    "\n",
    "# add the polygons\n",
    "layer = viewer.add_shapes(polygons, shape_type='polygon', edge_width=5,\n",
    "                          edge_color='coral', face_color='royalblue')\n"
   ]
  },
  {
   "cell_type": "code",
   "execution_count": null,
   "metadata": {
    "tags": [
     "hide-input"
    ]
   },
   "outputs": [],
   "source": [
    "from napari.utils import nbscreenshot\n",
    "\n",
    "nbscreenshot(viewer)"
   ]
  },
  {
   "cell_type": "code",
   "execution_count": null,
   "metadata": {
    "tags": [
     "remove-cell"
    ]
   },
   "outputs": [],
   "source": [
    "viewer.close()"
   ]
  },
  {
   "cell_type": "markdown",
   "metadata": {},
   "source": [
    "## arguments of view_shapes and add_shapes\n",
    "\n",
    "Both `view_shapes` and `add_shapes` have the following doc strings:"
   ]
  },
  {
   "cell_type": "code",
   "execution_count": null,
   "metadata": {
    "tags": [
     "hide-input"
    ]
   },
   "outputs": [],
   "source": [
    "napari.view_shapes?"
   ]
  },
  {
   "cell_type": "markdown",
   "metadata": {},
   "source": [
    "## shapes data\n",
    "\n",
    "The input data to the shapes layer must be a list of NxD numpy array,\n",
    "with each array containing the coordinates of the N vertices in D dimensions that make up the shape.\n",
    "The ordering of these dimensions is the same as the ordering of the dimensions for image layers.\n",
    "This list of arrays is always accessible through the `layer.data` property\n",
    "and will grow or shrink as new shapes are either added or deleted.\n",
    "By storing data as a list of arrays\n",
    "it is possible for each shape to have a different number of vertices in it.\n",
    "This is especially useful when drawing polygons or paths.\n"
   ]
  },
  {
   "cell_type": "markdown",
   "metadata": {},
   "source": [
    "## adding different shape types\n",
    "\n",
    "Right now the shapes layer supports 5 types of shapes,\n",
    "`Lines`, `Rectangles`, `Ellipses`, `Polygons`, and `Paths`.\n",
    "When adding new data can set the shape type through the `shape_type` keyword argument,\n",
    "as either a single shape type if all the shapes to be added have the same type\n",
    "or as a list of shape types if some of the shapes have different types.\n",
    "The actual shape types of all the shapes is accessible through the `layer.shape_types` property.\n",
    "Selecting different shape creation tools will cause shapes of the different types to be added."
   ]
  },
  {
   "cell_type": "markdown",
   "metadata": {},
   "source": [
    "`Lines` consist of two vertices representing the end points of the line.\n",
    "The line creation tool can be selected from the layer control panel\n",
    "or by pressing the `L` key when the shapes layer is selected.\n",
    "When adding a new line\n",
    "the first click will coordinates of the first endpoint\n",
    "and the second click will mark the coordinates of the second endpoint.\n",
    "You'll then be able to add another line."
   ]
  },
  {
   "cell_type": "markdown",
   "metadata": {},
   "source": [
    "`Rectangles` can be added using two vertices representing the corners of the rectangle for axis aligned rectangle,\n",
    "or using four corners so that non-axis aligned rectangle can be represented too.\n",
    "Internally we use the four vertex representation so we can always support rotated rectangles.\n",
    "The rectangle creation tool can be selected from the layer control panel\n",
    "or by pressing the `R` key when the shapes layer is selected.\n",
    "When adding a rectangle you must click and drag the rectangle to have the desired shape.\n",
    "When you release the mouse the rectangle will be completed\n",
    "and you'll then be able to add another one.\n",
    "If you just make a single click\n",
    "then a rectangle of default size will be created centered on that click."
   ]
  },
  {
   "cell_type": "markdown",
   "metadata": {},
   "source": [
    "`Ellipses` can be added using either two vectors,\n",
    "one representing the center position of the ellipse\n",
    "and the other representing the radii of the ellipse in all dimensions for an axis aligned ellipse,\n",
    "or by using the four corners of the ellipse bounding box for a non-axis aligned ellipse.\n",
    "Internally we use the four vertex representation so we can always support rotated ellipses.\n",
    "The ellipse creation tool can be selected from the layer control panel\n",
    "or by pressing the `E` key when the shapes layer is selected.\n",
    "When adding an ellipse you must click and drag the ellipse to have the desired shape.\n",
    "When you release the mouse\n",
    "the ellipse will be completed\n",
    "and you'll then be able to add another one.\n",
    "If you just make a single click\n",
    "then an ellipse of default size will be created centered on that click."
   ]
  },
  {
   "cell_type": "markdown",
   "metadata": {},
   "source": [
    "`Polygons` can be added using an array of N vertices.\n",
    "Polygons are closed by default,\n",
    "and so you don't also need to include the first point at the end of the array.\n",
    "The order of the vertices will determine the triangulation of the polygon,\n",
    "which can be non-convex, but cannot have holes.\n",
    "The polygon creation tool can be selected from the layer control panel\n",
    "or by pressing the `P` key when the shapes layer is selected.\n",
    "When adding a polygon\n",
    "each click will add a vertex at the clicked location.\n",
    "To finish drawing a polygon you must click the `escape` key,\n",
    "which will add a final vertex at the current mouse position and complete the polygon.\n",
    "You'll then be able to start adding another one."
   ]
  },
  {
   "cell_type": "markdown",
   "metadata": {},
   "source": [
    "`Paths` are like polygons but are not closed or filled in.\n",
    "They can also be added using an array of N vertices.\n",
    "The path creation tool can be selected from the layer control panel\n",
    "or by pressing the `T` key when the shapes layer is selected.\n",
    "When adding a path each click will add a vertex at the clicked location.\n",
    "To finish drawing a path you must click the `escape` key,\n",
    "which will add a final vertex at the current mouse position and complete the path.\n",
    "You'll then be able to start adding another one."
   ]
  },
  {
   "cell_type": "markdown",
   "metadata": {},
   "source": [
    "When using the shapes addition or editing tools\n",
    "the pan and zoom functionality of the viewer canvas is disabled and you can edit the layer.\n",
    "You can temporarily re-enable pan and zoom\n",
    "by pressing and holding the spacebar.\n",
    "This feature can be useful if you want to move around the shapes layer as you edit it."
   ]
  },
  {
   "cell_type": "markdown",
   "metadata": {},
   "source": [
    "## creating a new shapes layer\n",
    "\n",
    "As you can add new shapes to a shapes layer using the various shape creation tools,\n",
    "it is possible to create a brand-new empty shapes layers\n",
    "by clicking the new shapes layer button above the layers list.\n",
    "The shape of the shapes layer is defined by the shapes inside it,\n",
    "and so as you add new shapes the shape will adjust as needed.\n",
    "The dimension of the new shapes layer will default to the largest dimension of any layer currently in the viewer,\n",
    "or to 2 if no other layers are present in the viewer."
   ]
  },
  {
   "cell_type": "markdown",
   "metadata": {},
   "source": [
    "## non-editable mode\n",
    "\n",
    "If you want to disable editing of the shapes layer\n",
    "you can set the `editable` property of the layer to `False`.\n",
    "\n",
    "As note in the section on 3D rendering,\n",
    "when using 3D rendering the shapes layer is not editable."
   ]
  },
  {
   "cell_type": "markdown",
   "metadata": {},
   "source": [
    "## 3D rendering of shapes\n",
    "\n",
    "All our layers can be rendered in both 2D and 3D mode,\n",
    "and one of our viewer buttons can toggle between each mode.\n",
    "The number of dimensions sliders will be 2 or 3 less than the total number of dimensions of the layer.\n",
    "See for example the [`examples/nD_shapes.py`](https://github.com/napari/napari/blob/master/examples/nD_shapes.py) to see shapes in both 2D and 3D:"
   ]
  },
  {
   "cell_type": "markdown",
   "metadata": {},
   "source": [
    "![image: nD shapes](../assets/tutorials/nD_shapes.gif)\n"
   ]
  },
  {
   "cell_type": "markdown",
   "metadata": {},
   "source": [
    "Note though that when entering 3D rendering mode\n",
    "the shape editing tools are all disabled.\n",
    "Those options are only supported when viewing a layer using 2D rendering.\n",
    "\n",
    "Also note that for a multidimensional shape to be displayed on a given view slice\n",
    "all of its non-displayed coordinates must match the coordinates of that view slice,\n",
    "i.e. the shape must be entirely defined within that plane.\n",
    "\n",
    "For paths that are defined by coordinates spanning more than two dimensions,\n",
    "it is possible to visualize them as 3D cylinders, see for example the [`examples/3D_paths.py`](https://github.com/napari/napari/blob/master/examples/3D_paths.py)"
   ]
  },
  {
   "cell_type": "markdown",
   "metadata": {},
   "source": [
    "![image: 3D paths](../assets/tutorials/3D_paths.png)"
   ]
  },
  {
   "cell_type": "markdown",
   "metadata": {},
   "source": [
    "Right now, it is not possible to display 3D cuboids or 3D spheroids,\n",
    "but will be supporting those options soon."
   ]
  },
  {
   "cell_type": "markdown",
   "metadata": {},
   "source": [
    "## pan and zoom mode\n",
    "\n",
    "The default mode of the shapes layer is to support panning and zooming, as in the image layer.\n",
    "This mode is represented by the magnifying glass in the layers control panel,\n",
    "and while it is selected editing the layer is not possible.\n",
    "Continue reading to learn how to use some of the editing modes.\n",
    "You can always return to pan and zoom mode by pressing the `Z` key\n",
    "when the shapes layer is selected."
   ]
  },
  {
   "cell_type": "markdown",
   "metadata": {},
   "source": [
    "## selecting, resizing, moving, and deleting shapes\n",
    "\n",
    "New shapes can be added using one of the 5 shape creation tools,\n",
    "for `Lines`, `Rectangles`, `Ellipses`, `Polygons`, and `Paths`.\n",
    "For more information on the different shape types see the shape types section.\n",
    "\n",
    "You can select a shape by clicking on it using the shape selection tool,\n",
    "which can be selected by clicking on it in the layer controls panel\n",
    "or by pressing the `S` key when the shapes layer is selected.\n",
    "Once selected you can move the shape by dragging it.\n",
    "You can also resize the shape by clicking and dragging on one of the handles along the edge of the shape bounding box.\n",
    "You can also rotate the shape by clicking and dragging on the rotation handle above the shape bounding box.\n",
    "\n",
    "When resizing a layer if you hold down the `shift` key\n",
    "the aspect ratio of the shape will lock and you can continue to resize the shape now with a fixed aspect ratio.\n",
    "\n",
    "You can select multiple shapes by continuing to shift click on additional shapes after the first,\n",
    "or by dragging a bounding box around the shapes you want to select.\n",
    "\n",
    "You can select all the shapes in the currently viewed slice by clicking the `A` key if you are in select mode.\n",
    "\n",
    "Once selected you can delete the selected shapes by clicking on the delete button in the layer controls panel or pressing the delete key.\n"
   ]
  },
  {
   "cell_type": "markdown",
   "metadata": {},
   "source": [
    "For example see below:\n",
    "![image: shape resizing](../assets/tutorials/shape_resizing.gif)"
   ]
  },
  {
   "cell_type": "markdown",
   "metadata": {},
   "source": [
    "## adding, moving, and deleting individual vertices\n",
    "\n",
    "You can move individual vertices by entering the direct selection mode\n",
    "by either clicking on the direct select tool in the layer controls panel\n",
    "or pressing the `D` key while the shapes layer is selected.\n",
    "To move a vertex, you can click and drag it to its new position.\n",
    "\n",
    "You can add vertices to a selected shape using the vertex addition tool\n",
    "which can be selected either clicking on the vertex addition tool in the layer controls panel\n",
    "or pressing the `I` key while the shapes layer is selected.\n",
    "\n",
    "You can delete vertices to a selected shape using the vertex deletion tool\n",
    "which can be selected either clicking on the vertex deletion tool in the layer controls panel\n",
    "or pressing the `X` key while the shapes layer is selected."
   ]
  },
  {
   "cell_type": "markdown",
   "metadata": {},
   "source": [
    "For example see below:\n",
    "![image: shape vertex editing](../assets/tutorials/shape_vertex_editing.gif)"
   ]
  },
  {
   "cell_type": "markdown",
   "metadata": {},
   "source": [
    "## changing shape edge and face colors\n",
    "\n",
    "Individual shapes can each have different edge and face colors.\n",
    "You can initially set these colors by providing a list of colors to the `edge_color` or `face_color` keyword arguments respectively,\n",
    "or you can edit them from the GUI.\n",
    "The colors of each of the shapes are available as lists under the `layer.edge_colors` and `layer.face_colors` properties.\n",
    "These properties are different from the `layer.edge_color` and `layer.face_color` properties\n",
    "that will determine the color of the next shape to be added or any currently selected shapes.\n",
    "\n",
    "To change the shape color properties from the GUI\n",
    "you must first select the shape whose properties you want to change,\n",
    "otherwise you will just be initializing the property for the next shape you add."
   ]
  },
  {
   "cell_type": "markdown",
   "metadata": {},
   "source": [
    "## changing shape edge widths\n",
    "\n",
    "Individual shapes can each have different edge widths.\n",
    "You can initially set the edge widths by providing a list of values to the `edge_width` keyword arguments respectively,\n",
    "or you can edit them from the GUI.\n",
    "The widths of each of the shapes are available as a list under the `layer.edge_widths` property.\n",
    "Similar to the edge and face colors, these property is different from the `layer.edge_width` property\n",
    "that will determine the edge width of the next shape to be added or any currently selected shapes.\n",
    "\n",
    "To change the edge with property from the GUI\n",
    "you must first select the shape whose properties you want to change,\n",
    "otherwise you will just be initializing the property for the next shape you add."
   ]
  },
  {
   "cell_type": "markdown",
   "metadata": {},
   "source": [
    "## layer ordering\n",
    "\n",
    "You can adjust the ordering of shapes in the layer\n",
    "by selecting shapes and then clicking the move to front or move to back buttons.\n",
    "You can get the ordering of all the shapes using the `layer.z_indices` property.\n",
    "You can also set the initial ordering of shapes by passing a list to the `layer.z_index` property."
   ]
  },
  {
   "cell_type": "markdown",
   "metadata": {},
   "source": [
    "## copying and pasting shapes\n",
    "\n",
    "It is possible to copy and paste any selected shapes using the `ctrl-C` and `ctrl-V` keybindings respectively.\n",
    "If you have a multidimensional shapes layer you can copy shapes from one slice to another\n",
    "by pasting them into the new slice.\n",
    "The coordinates of the shapes in the visible dimensions will be in the same place on the new slice as in the old slice,\n",
    "but the rest of the coordinates will be updated with the new slice values."
   ]
  },
  {
   "cell_type": "markdown",
   "metadata": {},
   "source": [
    "## layer visibility\n",
    "\n",
    "All our layers support a visibility toggle that allows you to set the `visible` property of each layer.\n",
    "This property is located inside the layer widget in the layers list and is represented by an eye icon."
   ]
  },
  {
   "cell_type": "markdown",
   "metadata": {},
   "source": [
    "## layer opacity\n",
    "\n",
    "All our layers support an opacity slider and `opacity` property\n",
    "that allow you to adjust the layer opacity between 0, fully invisible, and 1, fully visible.\n",
    "The opacity value applies individually to each shape in the layer,\n",
    "and so you must have shapes selected for it to have an effect.\n",
    "\n",
    "You can also initialize the shape opacities using the `opacity` keyword argument\n",
    "which accepts either a list of opacities or a single opacity value that will be applied globally.\n",
    "You can then access the opacity of every shape using the `layer.opacities` property.\n",
    "Note that this property is different from the `layer.opacity` property\n",
    "that determines the opacity of the next shape to be added."
   ]
  },
  {
   "cell_type": "markdown",
   "metadata": {},
   "source": [
    "## blending layers\n",
    "\n",
    "All our layers support three blending modes `translucent`, `additive`, and `opaque`\n",
    "that determine how the visuals for this layer get mixed with the visuals from the other layers.\n",
    "\n",
    "An `opaque` layer renders all the other layers below it invisible\n",
    "and will fade to black as you decrease its opacity.\n",
    "\n",
    "The `translucent` setting will cause the layer to blend with the layers below it if you decrease its opacity\n",
    "but will fully block those layers if its opacity is 1.\n",
    "This is a reasonable default, useful for many applications.\n",
    "\n",
    "The final blending mode `additive` will cause the layer to blend with the layers below\n",
    "even when it has full opacity.\n",
    "This mode is especially useful for visualizing multiple layers at the same time."
   ]
  },
  {
   "cell_type": "markdown",
   "metadata": {},
   "source": [
    "## naming layers\n",
    "\n",
    "All our layers support a `name` property\n",
    "that can be set inside a text box inside the layer widget in the layers list.\n",
    "The name of each layer is forced into being unique\n",
    "so that you can use the name to index into `viewer.layers` to retrieve the layer object."
   ]
  },
  {
   "cell_type": "markdown",
   "metadata": {},
   "source": [
    "## scaling layers\n",
    "\n",
    "All our layers support a `scale` property and keyword argument\n",
    "that will rescale the layer multiplicatively according to the scale values (one for each dimension).\n",
    "This property can be particularly useful for viewing anisotropic data\n",
    "where the size of the voxel in the z dimension might be different then the size in the x and y dimensions."
   ]
  },
  {
   "cell_type": "markdown",
   "metadata": {},
   "source": [
    "## translating layers\n",
    "\n",
    "All our layers support a `translate` property and keyword argument\n",
    "that you can use to offset a layer relative to the other layers,\n",
    "which could be useful if you are trying to overlay two layers for image registration purposes."
   ]
  },
  {
   "cell_type": "markdown",
   "metadata": {},
   "source": [
    "## layer metadata\n",
    "\n",
    "All our layers also support a `metadata` property and keyword argument\n",
    "that you can use to store an arbitrary metadata dictionary on the layer."
   ]
  },
  {
   "cell_type": "markdown",
   "metadata": {},
   "source": [
    "## putting it all together\n",
    "\n",
    "Here you can see an example of adding, selecting, and editing shapes and change their properties:"
   ]
  },
  {
   "cell_type": "markdown",
   "metadata": {},
   "source": [
    "![image: editing shapes](../assets/tutorials/editing_shapes.gif)"
   ]
  },
  {
   "cell_type": "markdown",
   "metadata": {},
   "source": [
    "## next steps\n",
    "\n",
    "Hopefully, this tutorial has given you a detailed understanding of the `Shapes` layer,\n",
    "including how to create one and control its properties.\n",
    "To learn more about some of the other layer types that **napari** supports\n",
    "checkout some more of our tutorials listed below.\n",
    "The [surface layer](./surface) tutorial is a great one to try next as it describes rendering complex surfaces."
   ]
  }
 ],
 "metadata": {
  "celltoolbar": "Tags",
  "kernelspec": {
   "display_name": "Python 3",
   "language": "python",
   "name": "python3"
  },
  "language_info": {
   "codemirror_mode": {
    "name": "ipython",
    "version": 3
   },
   "file_extension": ".py",
   "mimetype": "text/x-python",
   "name": "python",
   "nbconvert_exporter": "python",
   "pygments_lexer": "ipython3",
   "version": "3.7.9"
  }
 },
 "nbformat": 4,
 "nbformat_minor": 2
}
