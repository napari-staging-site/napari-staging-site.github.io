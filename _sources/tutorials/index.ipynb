{
 "cells": [
  {
   "cell_type": "markdown",
   "metadata": {},
   "source": [
    "# napari tutorials"
   ]
  },
  {
   "cell_type": "markdown",
   "metadata": {},
   "source": [
    "Welcome to the **napari** tutorials!\n",
    "Our main development occurs on the [napari/napari](https://github.com/napari/napari) repository.\n",
    "Here we've provided a few tutorials to explore the main usage modes and methods of napari.\n",
    "Before we dive in, let's talk a bit about what napari actually is and why we're developing it."
   ]
  },
  {
   "cell_type": "markdown",
   "metadata": {},
   "source": [
    "## what is napari?\n",
    "\n",
    "**napari** is a fast, interactive, multi-dimensional image viewer for Python.\n",
    "It's designed for browsing, annotating, and analyzing large multi-dimensional images.\n",
    "It's built on top of `Qt` (for the GUI), `vispy` (for performant GPU-based rendering),\n",
    "and the scientific Python stack (e.g. `numpy`, `scipy`).\n",
    "It includes critical viewer features out-of-the-box,\n",
    "such as support for large multi-dimensional data, and layering and annotation.\n",
    "By integrating closely with the Python ecosystem,\n",
    "**napari** can be easily coupled to leading machine learning and image analysis tools (e.g. `scikit-image`, `scikit-learn`, `TensorFlow`, `PyTorch`),\n",
    "enabling more user-friendly automated analysis.\n"
   ]
  },
  {
   "cell_type": "code",
   "execution_count": null,
   "metadata": {},
   "outputs": [],
   "source": [
    "%gui qt"
   ]
  },
  {
   "cell_type": "code",
   "execution_count": null,
   "metadata": {
    "tags": [
     "remove-cell"
    ]
   },
   "outputs": [],
   "source": [
    "# This cell is required for the automated continuous integration\n",
    "# It allows the async Qt magic in the previous cell time to load\n",
    "import time\n",
    "\n",
    "time.sleep(1)"
   ]
  },
  {
   "cell_type": "code",
   "execution_count": null,
   "metadata": {},
   "outputs": [],
   "source": [
    "import napari\n",
    "from napari.utils import nbscreenshot\n",
    "from skimage.data import cells3d\n",
    "\n",
    "cells = cells3d()[30, 1]  # get some data\n",
    "viewer = napari.view_image(cells, colormap='magma')\n",
    "\n",
    "nbscreenshot(viewer)"
   ]
  },
  {
   "cell_type": "markdown",
   "metadata": {},
   "source": [
    "We're developing **napari** in the open!\n",
    "But the project is in an **alpha** stage,\n",
    "and there will still likely be **breaking changes** with each release.\n",
    "You can follow progress on this repository,\n",
    "test out new versions as we release them,\n",
    "and contribute ideas and code.\n",
    "\n",
    "To get a sense of our current plans checkout and contribute to the discussion on some of our [long-term feature issues](https://github.com/napari/napari/issues?q=is%3Aissue+is%3Aopen+label%3A%22long-term+feature%22) on Github.\n",
    "\n",
    "To checkout some cool example uses of **napari** with scientific data see our [gallery](./gallery)."
   ]
  },
  {
   "cell_type": "markdown",
   "metadata": {},
   "source": [
    "## getting started\n",
    "\n",
    "These tutorials target people who want to use napari as a user.\n",
    "If you are also interested in contributing to napari then please check out [contributing guidelines](https://github.com/napari/napari/blob/master/docs/developers/contributing.md).\n",
    "\n",
    "If you've already got napari installed,\n",
    "then begin with our [getting started](./fundamentals/getting_started) tutorial.\n",
    "For help installing napari checkout our [installing napari](./fundamentals/installation) tutorial."
   ]
  },
  {
   "cell_type": "markdown",
   "metadata": {},
   "source": [
    "## help\n",
    "\n",
    "We're a community partner on the [imagesc forum](https://forum.image.sc/tags/napari) and all help and support requests should be posted on the forum with the tag `napari`.\n",
    "We look forward to interacting with you there."
   ]
  },
  {
   "cell_type": "markdown",
   "metadata": {},
   "source": [
    "## improving the tutorials\n",
    "\n",
    "Our tutorials are hosted on Github at [napari/tutorials](https://github.com/napari/tutorials).\n",
    "If as you're going through the tutorials you spot any errors or can think of ways to improve them\n",
    "please raise an issue on the repository or make a PR,\n",
    "we'd love to have the community help make them better for everyone.\n",
    "\n",
    "[napari tutorials home page](http://www.napari.org/tutorials)"
   ]
  },
  {
   "cell_type": "code",
   "execution_count": null,
   "metadata": {
    "tags": [
     "remove-cell"
    ]
   },
   "outputs": [],
   "source": [
    "viewer.close()"
   ]
  }
 ],
 "metadata": {
  "celltoolbar": "Tags",
  "kernelspec": {
   "display_name": "Python 3",
   "language": "python",
   "name": "python3"
  },
  "language_info": {
   "codemirror_mode": {
    "name": "ipython",
    "version": 3
   },
   "file_extension": ".py",
   "mimetype": "text/x-python",
   "name": "python",
   "nbconvert_exporter": "python",
   "pygments_lexer": "ipython3",
   "version": "3.7.9"
  }
 },
 "nbformat": 4,
 "nbformat_minor": 2
}
